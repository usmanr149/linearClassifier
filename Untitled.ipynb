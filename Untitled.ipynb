{
 "cells": [
  {
   "cell_type": "code",
   "execution_count": 1,
   "metadata": {},
   "outputs": [
    {
     "data": {
      "text/plain": [
       "<Figure size 2880x2880 with 0 Axes>"
      ]
     },
     "metadata": {},
     "output_type": "display_data"
    }
   ],
   "source": [
    "import cv2\n",
    "import os\n",
    "\n",
    "from matplotlib import pyplot as plt\n",
    "%matplotlib inline\n",
    "\n",
    "plt.figure(figsize=(40,40))\n",
    "\n",
    "import numpy as np\n",
    "from scipy.optimize import minimize"
   ]
  },
  {
   "cell_type": "code",
   "execution_count": 2,
   "metadata": {},
   "outputs": [],
   "source": [
    "import random\n",
    "import time"
   ]
  },
  {
   "cell_type": "code",
   "execution_count": 50,
   "metadata": {},
   "outputs": [],
   "source": [
    "images = []\n",
    "labels = []\n",
    "count = 0\n",
    "limit = 19\n",
    "\n",
    "PATH = 'training/training/'\n",
    "\n",
    "for root, dirs, files in os.walk(PATH + 'n0', topdown=False):\n",
    "    for name in files:\n",
    "#         print(os.path.join(root, name))\n",
    "        images.append([os.path.join(root, name), 0])\n",
    "#         labels.append(0)\n",
    "#     for name in dirs:\n",
    "#         print(os.path.join(root, name))\n",
    "        count += 1\n",
    "        if count > limit:\n",
    "            break\n",
    "            \n",
    "count = 0\n",
    "for root, dirs, files in os.walk(PATH + \"n1\", topdown=False):\n",
    "    for name in files:\n",
    "#         print(os.path.join(root, name))\n",
    "        images.append([os.path.join(root, name), 1])\n",
    "#         labels.append(1)\n",
    "        count += 1\n",
    "        if count > limit:\n",
    "            break\n",
    "            \n",
    "count = 0\n",
    "for root, dirs, files in os.walk(PATH + \"n2\", topdown=False):\n",
    "    for name in files:\n",
    "#         print(os.path.join(root, name))\n",
    "        images.append([os.path.join(root, name), 2])\n",
    "#         labels.append(2)\n",
    "        count += 1\n",
    "        if count > limit:\n",
    "            break\n",
    "            \n",
    "count = 0\n",
    "for root, dirs, files in os.walk(PATH + \"n3\", topdown=False):\n",
    "    for name in files:\n",
    "#         print(os.path.join(root, name))\n",
    "        images.append([os.path.join(root, name) ,3])\n",
    "#         labels.append(3)\n",
    "        count += 1\n",
    "        if count > limit:\n",
    "            break\n",
    "            \n",
    "count = 0\n",
    "for root, dirs, files in os.walk(PATH + \"n4\", topdown=False):\n",
    "    for name in files:\n",
    "#         print(os.path.join(root, name))\n",
    "        images.append([os.path.join(root, name), 4])\n",
    "#         labels.append(4)\n",
    "        count += 1\n",
    "        if count > limit:\n",
    "            break"
   ]
  },
  {
   "cell_type": "code",
   "execution_count": 51,
   "metadata": {
    "scrolled": true
   },
   "outputs": [
    {
     "data": {
      "text/plain": [
       "[['training/training/n1/n1033.jpg', 1],\n",
       " ['training/training/n3/n3034.jpg', 3],\n",
       " ['training/training/n2/n2069.jpg', 2],\n",
       " ['training/training/n4/n41559.jpg', 4],\n",
       " ['training/training/n4/n4143.jpg', 4],\n",
       " ['training/training/n4/n4130.jpg', 4],\n",
       " ['training/training/n2/n2141.jpg', 2],\n",
       " ['training/training/n2/n2117.jpg', 2],\n",
       " ['training/training/n3/n3038.jpg', 3],\n",
       " ['training/training/n3/n3024.jpg', 3],\n",
       " ['training/training/n4/n4125.jpg', 4],\n",
       " ['training/training/n2/n2052.jpg', 2],\n",
       " ['training/training/n4/n4062.jpg', 4],\n",
       " ['training/training/n0/n0122.jpg', 0],\n",
       " ['training/training/n0/n0018.jpg', 0],\n",
       " ['training/training/n1/n1066.jpg', 1],\n",
       " ['training/training/n4/n4131.jpg', 4],\n",
       " ['training/training/n4/n4141.jpg', 4],\n",
       " ['training/training/n3/n3075.jpg', 3],\n",
       " ['training/training/n3/n3166.jpg', 3],\n",
       " ['training/training/n2/n2061.jpg', 2],\n",
       " ['training/training/n4/n4037.jpg', 4],\n",
       " ['training/training/n3/n3030.jpg', 3],\n",
       " ['training/training/n0/n0147.jpg', 0],\n",
       " ['training/training/n3/n3044.jpg', 3],\n",
       " ['training/training/n1/n1163.jpg', 1],\n",
       " ['training/training/n4/n4042.jpg', 4],\n",
       " ['training/training/n2/n2024.jpg', 2],\n",
       " ['training/training/n0/n0024.jpg', 0],\n",
       " ['training/training/n0/n0166.jpg', 0],\n",
       " ['training/training/n0/n0111.jpg', 0],\n",
       " ['training/training/n4/n4020.jpg', 4],\n",
       " ['training/training/n1/n1139.jpg', 1],\n",
       " ['training/training/n2/n2027.jpg', 2],\n",
       " ['training/training/n0/n0157.jpg', 0],\n",
       " ['training/training/n1/n1034.jpg', 1],\n",
       " ['training/training/n3/n3041.jpg', 3],\n",
       " ['training/training/n3/n3142.jpg', 3],\n",
       " ['training/training/n3/n3070.jpg', 3],\n",
       " ['training/training/n4/n4050.jpg', 4],\n",
       " ['training/training/n2/n2148.jpg', 2],\n",
       " ['training/training/n2/n2134.jpg', 2],\n",
       " ['training/training/n1/n1060.jpg', 1],\n",
       " ['training/training/n1/n1142.jpg', 1],\n",
       " ['training/training/n2/n2163.jpg', 2],\n",
       " ['training/training/n1/n1040.jpg', 1],\n",
       " ['training/training/n2/n2156.jpg', 2],\n",
       " ['training/training/n3/n3035.jpg', 3],\n",
       " ['training/training/n0/n0052.jpg', 0],\n",
       " ['training/training/n2/n2135.jpg', 2],\n",
       " ['training/training/n0/n0138.jpg', 0],\n",
       " ['training/training/n4/n4123.jpg', 4],\n",
       " ['training/training/n4/n4139.jpg', 4],\n",
       " ['training/training/n3/n3172.jpg', 3],\n",
       " ['training/training/n1/n1067.jpg', 1],\n",
       " ['training/training/n2/n2039.jpg', 2],\n",
       " ['training/training/n3/n3061.jpg', 3],\n",
       " ['training/training/n4/n4146.jpg', 4],\n",
       " ['training/training/n3/n3047.jpg', 3],\n",
       " ['training/training/n2/n2130.jpg', 2],\n",
       " ['training/training/n2/n2146.jpg', 2],\n",
       " ['training/training/n4/n4038.jpg', 4],\n",
       " ['training/training/n1/n1018.jpg', 1],\n",
       " ['training/training/n4/n4017.jpg', 4],\n",
       " ['training/training/n1/n1041.jpg', 1],\n",
       " ['training/training/n4/n4119.jpg', 4],\n",
       " ['training/training/n0/n0159.jpg', 0],\n",
       " ['training/training/n1/n1052.jpg', 1],\n",
       " ['training/training/n4/n4124.jpg', 4],\n",
       " ['training/training/n0/n0152.jpg', 0],\n",
       " ['training/training/n1/n1149.jpg', 1],\n",
       " ['training/training/n3/n3051.jpg', 3],\n",
       " ['training/training/n1/n1132.jpg', 1],\n",
       " ['training/training/n0/n0150.jpg', 0],\n",
       " ['training/training/n4/n4154.jpg', 4],\n",
       " ['training/training/n3/n3067.jpg', 3],\n",
       " ['training/training/n4/n4026.jpg', 4],\n",
       " ['training/training/n1/n1068.jpg', 1],\n",
       " ['training/training/n2/n2065.jpg', 2],\n",
       " ['training/training/n3/n3124.jpg', 3],\n",
       " ['training/training/n1/n1053.jpg', 1],\n",
       " ['training/training/n0/n0020.jpg', 0],\n",
       " ['training/training/n1/n1116.jpg', 1],\n",
       " ['training/training/n0/n0041.jpg', 0],\n",
       " ['training/training/n2/n2050.jpg', 2],\n",
       " ['training/training/n0/n0110.jpg', 0],\n",
       " ['training/training/n3/n3065.jpg', 3],\n",
       " ['training/training/n0/n0115.jpg', 0],\n",
       " ['training/training/n0/n0142.jpg', 0],\n",
       " ['training/training/n3/n3169.jpg', 3],\n",
       " ['training/training/n1/n1124.jpg', 1],\n",
       " ['training/training/n2/n2116.jpg', 2],\n",
       " ['training/training/n0/n0167.jpg', 0],\n",
       " ['training/training/n1/n1138.jpg', 1],\n",
       " ['training/training/n1/n1156.jpg', 1],\n",
       " ['training/training/n3/n3037.jpg', 3],\n",
       " ['training/training/n2/n2031.jpg', 2],\n",
       " ['training/training/n2/n2164.jpg', 2],\n",
       " ['training/training/n0/n0153.jpg', 0],\n",
       " ['training/training/n0/n0139.jpg', 0]]"
      ]
     },
     "execution_count": 51,
     "metadata": {},
     "output_type": "execute_result"
    }
   ],
   "source": [
    "random.shuffle(images)\n",
    "images"
   ]
  },
  {
   "cell_type": "code",
   "execution_count": 52,
   "metadata": {},
   "outputs": [],
   "source": [
    "files = [i[0] for i in images]\n",
    "labels = [i[1] for i in images]"
   ]
  },
  {
   "cell_type": "code",
   "execution_count": 53,
   "metadata": {},
   "outputs": [
    {
     "data": {
      "text/plain": [
       "[1,\n",
       " 3,\n",
       " 2,\n",
       " 4,\n",
       " 4,\n",
       " 4,\n",
       " 2,\n",
       " 2,\n",
       " 3,\n",
       " 3,\n",
       " 4,\n",
       " 2,\n",
       " 4,\n",
       " 0,\n",
       " 0,\n",
       " 1,\n",
       " 4,\n",
       " 4,\n",
       " 3,\n",
       " 3,\n",
       " 2,\n",
       " 4,\n",
       " 3,\n",
       " 0,\n",
       " 3,\n",
       " 1,\n",
       " 4,\n",
       " 2,\n",
       " 0,\n",
       " 0,\n",
       " 0,\n",
       " 4,\n",
       " 1,\n",
       " 2,\n",
       " 0,\n",
       " 1,\n",
       " 3,\n",
       " 3,\n",
       " 3,\n",
       " 4,\n",
       " 2,\n",
       " 2,\n",
       " 1,\n",
       " 1,\n",
       " 2,\n",
       " 1,\n",
       " 2,\n",
       " 3,\n",
       " 0,\n",
       " 2,\n",
       " 0,\n",
       " 4,\n",
       " 4,\n",
       " 3,\n",
       " 1,\n",
       " 2,\n",
       " 3,\n",
       " 4,\n",
       " 3,\n",
       " 2,\n",
       " 2,\n",
       " 4,\n",
       " 1,\n",
       " 4,\n",
       " 1,\n",
       " 4,\n",
       " 0,\n",
       " 1,\n",
       " 4,\n",
       " 0,\n",
       " 1,\n",
       " 3,\n",
       " 1,\n",
       " 0,\n",
       " 4,\n",
       " 3,\n",
       " 4,\n",
       " 1,\n",
       " 2,\n",
       " 3,\n",
       " 1,\n",
       " 0,\n",
       " 1,\n",
       " 0,\n",
       " 2,\n",
       " 0,\n",
       " 3,\n",
       " 0,\n",
       " 0,\n",
       " 3,\n",
       " 1,\n",
       " 2,\n",
       " 0,\n",
       " 1,\n",
       " 1,\n",
       " 3,\n",
       " 2,\n",
       " 2,\n",
       " 0,\n",
       " 0]"
      ]
     },
     "execution_count": 53,
     "metadata": {},
     "output_type": "execute_result"
    }
   ],
   "source": [
    "labels"
   ]
  },
  {
   "cell_type": "code",
   "execution_count": 54,
   "metadata": {},
   "outputs": [],
   "source": [
    "image_height = 25\n",
    "image_width = 25\n",
    "\n",
    "No_of_Images = len(files)\n",
    "No_of_Classes = len(set(labels))\n",
    "\n",
    "# classes = np.random.randint(No_of_Classes, size=No_of_Images)\n",
    "y_true = np.zeros((No_of_Images, max(labels)+1))\n",
    "y_true[np.arange(No_of_Images), np.array(labels)] = 1"
   ]
  },
  {
   "cell_type": "code",
   "execution_count": 55,
   "metadata": {},
   "outputs": [
    {
     "data": {
      "text/plain": [
       "2"
      ]
     },
     "execution_count": 55,
     "metadata": {},
     "output_type": "execute_result"
    }
   ],
   "source": [
    "np.where(y_true[2] == 1)[0][0]"
   ]
  },
  {
   "cell_type": "code",
   "execution_count": 56,
   "metadata": {},
   "outputs": [],
   "source": [
    "def readImage(path, width=56, height=60):\n",
    "    # Using cv2.imread() method\n",
    "    # Using 0 to read image in grayscale mode\n",
    "    img = cv2.imread(path, 0)\n",
    "    dim = (width, height)\n",
    "    # resize image\n",
    "    resized = cv2.resize(img, dim, interpolation=cv2.INTER_AREA)/255\n",
    "    # add a new row of 1\n",
    "    A = np.ones(width).reshape(1,width)\n",
    "    resized = np.vstack([resized, A])\n",
    "\n",
    "    return resized"
   ]
  },
  {
   "cell_type": "code",
   "execution_count": 57,
   "metadata": {},
   "outputs": [],
   "source": [
    "def costFunction(y_t, y_pred):\n",
    "    # find the y_pred value for the actual image index\n",
    "    index = np.where(y_t == 1)[0][0]\n",
    "    cost = 0\n",
    "    for i in range(len(y_t)):\n",
    "        if i != index:\n",
    "            cost+= max(0, y_pred[i] - y_pred[index] + DELTA)\n",
    "    return cost\n",
    "\n",
    "def loss(params, image, y_true):\n",
    "    W = params[:No_of_Classes*image_height*image_width].reshape(No_of_Classes, image_height*image_width)\n",
    "    B = params[No_of_Classes*image_height*image_width:].reshape(1, No_of_Classes)\n",
    "    y_pred = np.matmul(W,image) + B\n",
    "#     print(y_pred)\n",
    "        \n",
    "    return costFunction(y_true, y_pred[0])\n",
    "\n",
    "def jacobian(params):\n",
    "    W = params.reshape(No_of_Classes, image_height*image_width+image_width)        \n",
    "    dW = np.zeros(No_of_Classes*(image_height*image_width + image_width)).reshape(No_of_Classes, \n",
    "                                                                                   image_height*image_width + \n",
    "                                                                                     image_width)\n",
    "    \n",
    "    P = np.matmul(W, X_ )\n",
    "    \n",
    "    for i in range(W.shape[0]):\n",
    "        for j in range(W.shape[1]):\n",
    "            # i is the class\n",
    "            for k in range(P.shape[1]):\n",
    "                # k is the image we are looking at\n",
    "                if i != labels[k]:\n",
    "                    if P[i][k] - P[labels[k]][k] + DELTA > 0:\n",
    "                        dW[i][j] += X_[j][k]\n",
    "                # if the image we are looking at has the same class we are curretly looping over\n",
    "                if i == labels[k]:\n",
    "                    for cl in range(W.shape[0]):\n",
    "#                         print('cl: ', cl)\n",
    "                        if cl != i and P[cl][k] - P[i][k] + DELTA > 0:\n",
    "                            dW[i][j] -= X_[j][k]\n",
    "#                 print('dW[%d][%d] : %f' %(i,j,dW[i][j]))\n",
    "\n",
    "    return dW.ravel()\n",
    "            \n",
    "\n",
    "def objective(params):\n",
    "    W = params.reshape(No_of_Classes, image_height*image_width+image_width)\n",
    "#     B = params[No_of_Classes*image_height*image_width:].reshape(1, No_of_Classes)\n",
    "#     y_pred = np.matmul(X_, W.T )\n",
    "    y_pred = np.matmul(W, X_)\n",
    "    total_loss = [costFunction(y_true[i], y_pred[:, i]) for i in range(len(y_true))]\n",
    "#     total_loss = []\n",
    "#     for i in range(len(images)):\n",
    "#         total_loss.append(loss(params, X[i], y_true[i]))\n",
    "#     print(sum(total_loss))\n",
    "    return sum(total_loss)"
   ]
  },
  {
   "cell_type": "code",
   "execution_count": 58,
   "metadata": {},
   "outputs": [
    {
     "name": "stdout",
     "output_type": "stream",
     "text": [
      "(5, 650)\n"
     ]
    }
   ],
   "source": [
    "# W is number of classes time pixel in images\n",
    "W = np.random.rand(No_of_Classes, image_height*image_width+image_width)\n",
    "# # W = np.zeros(No_of_Classes*image_height*image_width).reshape(No_of_Classes, image_height*image_width)\n",
    "# W = np.full((No_of_Classes, image_height*image_width), 0.5)\n",
    "# B = np.random.rand(1, No_of_Classes)\n",
    "\n",
    "# param = np.append(W.ravel(), B.ravel())\n",
    "param = W.ravel()\n",
    "\n",
    "\n",
    "print(W.shape)\n",
    "# print(B.shape)"
   ]
  },
  {
   "cell_type": "code",
   "execution_count": 59,
   "metadata": {},
   "outputs": [],
   "source": [
    "X = []\n",
    "\n",
    "for i in files:\n",
    "    X.append(readImage(i, width = image_width, height=image_height).ravel())\n",
    "    \n",
    "X_ = np.array(X).T"
   ]
  },
  {
   "cell_type": "code",
   "execution_count": 60,
   "metadata": {},
   "outputs": [
    {
     "data": {
      "text/plain": [
       "(650, 100)"
      ]
     },
     "execution_count": 60,
     "metadata": {},
     "output_type": "execute_result"
    }
   ],
   "source": [
    "X_.shape"
   ]
  },
  {
   "cell_type": "code",
   "execution_count": 61,
   "metadata": {
    "scrolled": true
   },
   "outputs": [
    {
     "data": {
      "text/plain": [
       "array([[226.40929294,  89.83378266, 124.2775623 , 130.42247633,\n",
       "        173.22841402, 123.45115026, 114.1332956 , 179.67198847,\n",
       "        140.58498154, 196.38032411, 184.64219783, 126.64378367,\n",
       "        131.95498179, 169.66054884, 143.74707614, 131.47406476,\n",
       "         74.11309554, 104.01162835, 123.28011056, 186.27378579,\n",
       "        156.47066359, 141.01555541, 162.86098163, 121.63010482,\n",
       "        193.68222229, 159.36083316, 152.1304536 , 114.1332956 ,\n",
       "        152.81476746, 210.32570973, 205.95539905, 120.17052093,\n",
       "        157.22708621, 125.84562547, 156.61146262, 243.74618501,\n",
       "        181.79303404, 149.08305296, 195.9287217 , 122.49402105,\n",
       "        137.60573225,  79.07398695, 160.60306707, 155.31459544,\n",
       "         86.43021792, 207.06682796, 144.54655787, 176.45990785,\n",
       "        171.60491122, 177.24944905, 235.93188485, 125.55510701,\n",
       "        171.90773497, 143.55349983, 127.84153428, 172.18580051,\n",
       "        147.20009194, 140.95508963, 194.20532822, 136.74468649,\n",
       "        150.62452341,  98.20579138, 127.37212599, 109.55639905,\n",
       "        163.98576243, 160.72002983, 204.54878829, 167.80634969,\n",
       "         91.55157158, 146.73672729, 154.81994978, 200.41639027,\n",
       "        167.93145996, 146.22785339, 148.72425085, 217.8089793 ,\n",
       "        177.58963896, 180.89568132, 108.97432192, 147.65447147,\n",
       "        134.78592946, 200.91284774, 157.84692264,  90.90982204,\n",
       "         80.07970058, 161.16886663, 209.79695633, 152.81476746,\n",
       "        165.4654675 , 166.64342398, 112.54858971,  87.64586642,\n",
       "        128.37347528, 127.84153428, 165.71807064, 173.84152644,\n",
       "         93.67532794, 155.26656666, 187.64281402, 196.09327083],\n",
       "       [220.93634388,  86.11034195, 121.75412015, 130.2643088 ,\n",
       "        166.73174395, 123.5595725 , 114.5637756 , 173.53904239,\n",
       "        135.31002429, 191.09211429, 180.82713771, 124.70261365,\n",
       "        128.39157625, 165.41488259, 136.07004904, 128.32525933,\n",
       "         73.10624084, 103.0934577 , 119.55265193, 179.80285213,\n",
       "        148.46199498, 136.9130811 , 157.53949381, 115.64877272,\n",
       "        186.07804208, 156.72813532, 149.1015951 , 114.5637756 ,\n",
       "        150.98254773, 200.07380742, 199.61411202, 118.05304047,\n",
       "        152.58473181, 123.55516934, 151.78125168, 234.20433885,\n",
       "        179.4581448 , 144.40281494, 190.24251202, 119.44475245,\n",
       "        133.70855248,  77.75765746, 155.50748054, 153.55629491,\n",
       "         85.64622234, 200.72460825, 140.14134466, 170.98028948,\n",
       "        167.85364039, 171.73096628, 228.86994541, 123.03252962,\n",
       "        167.09886239, 138.59269489, 124.32605048, 164.31505294,\n",
       "        143.9945492 , 137.87710552, 187.62827309, 133.64100015,\n",
       "        148.30643613,  95.12020364, 124.20506186, 108.63343091,\n",
       "        159.71648675, 157.29223549, 199.44933396, 163.45859643,\n",
       "         88.02591603, 144.8745136 , 153.10035113, 196.07485056,\n",
       "        162.58413863, 141.08606466, 147.23895611, 211.25086161,\n",
       "        174.26083846, 175.47858181, 105.76924854, 145.63993536,\n",
       "        131.75449077, 193.2459998 , 154.32679576,  88.50479971,\n",
       "         78.51388065, 155.74983234, 202.84258903, 150.98254773,\n",
       "        161.59736558, 162.46563858, 110.87186341,  85.18754991,\n",
       "        126.41721602, 124.32605048, 161.89455618, 168.77780808,\n",
       "         91.35209672, 151.31596605, 183.08461033, 190.50680378],\n",
       "       [230.77770985,  87.34875816, 124.81300651, 134.70499003,\n",
       "        175.02775287, 129.46629225, 117.92357031, 180.3567217 ,\n",
       "        138.45325113, 199.7293845 , 186.80058767, 128.4473202 ,\n",
       "        132.41380415, 169.37387471, 143.31265869, 131.44161117,\n",
       "         74.91592942, 104.26277852, 127.02639246, 186.73125025,\n",
       "        156.44541621, 141.66886334, 164.9100335 , 125.10277956,\n",
       "        195.42843714, 162.50889367, 153.57714047, 117.92357031,\n",
       "        154.57506389, 210.1293169 , 204.39261381, 122.45380469,\n",
       "        156.98539605, 126.69883653, 159.1320624 , 243.12829301,\n",
       "        184.01875659, 150.21953469, 198.69149917, 126.09476415,\n",
       "        139.27870611,  80.30740369, 161.77886564, 159.22056229,\n",
       "         89.50521278, 209.32815408, 146.89513289, 176.93508051,\n",
       "        174.39903422, 179.19510677, 234.27157967, 126.86055845,\n",
       "        171.79367574, 143.25238219, 130.35578283, 171.42111621,\n",
       "        150.7409608 , 143.31695915, 193.10628118, 140.05930253,\n",
       "        152.90842847,  99.58010775, 127.4217719 , 111.99669368,\n",
       "        165.49183534, 161.6163946 , 205.79547589, 170.73916473,\n",
       "         91.29758639, 147.6727249 , 157.66442727, 199.18743521,\n",
       "        167.97814494, 147.2523622 , 150.03114368, 217.83710672,\n",
       "        182.73067612, 183.72713309, 109.22490528, 150.29182356,\n",
       "        135.42582792, 203.84946707, 157.77616719,  91.42819127,\n",
       "         82.98774654, 162.99898719, 212.65017675, 154.57506389,\n",
       "        167.95812359, 168.66058013, 112.93055007,  86.75357285,\n",
       "        129.39841872, 130.35578283, 168.00805333, 172.67012626,\n",
       "         94.98302615, 160.10630937, 192.11599468, 198.69619677],\n",
       "       [227.27138944,  88.82028686, 125.4230523 , 131.76359087,\n",
       "        171.24687856, 125.0680896 , 118.32428991, 178.76496809,\n",
       "        138.31187613, 195.96741477, 183.79131917, 125.40039856,\n",
       "        129.78612511, 168.36327196, 136.39085683, 130.69158511,\n",
       "         76.32062622, 104.7427482 , 123.54722554, 185.69265904,\n",
       "        155.63250019, 136.458743  , 162.65563971, 120.50272059,\n",
       "        192.45405215, 157.01201455, 151.8425095 , 118.32428991,\n",
       "        149.669623  , 205.00520725, 200.86977979, 119.92624703,\n",
       "        156.54548831, 124.81070243, 154.32978744, 242.36349782,\n",
       "        180.76438077, 148.13391526, 193.87310413, 125.89784773,\n",
       "        135.70091067,  80.51438784, 159.90924986, 156.32786373,\n",
       "         87.92026129, 207.89213566, 144.09703933, 174.50287335,\n",
       "        171.7293843 , 177.04282617, 229.96267274, 125.03365564,\n",
       "        168.55682894, 143.42053047, 128.54310496, 167.15943673,\n",
       "        146.67765604, 140.05543772, 192.9459789 , 136.59742586,\n",
       "        150.94575315, 100.56120615, 128.47787795, 111.70582525,\n",
       "        164.56303183, 159.31602394, 203.35808278, 168.03985802,\n",
       "         92.19199201, 145.01501735, 154.93703758, 199.33502226,\n",
       "        165.88501218, 143.59463447, 146.59814013, 212.7805331 ,\n",
       "        176.83560316, 180.45438063, 108.98654248, 150.05946422,\n",
       "        136.23246141, 199.54736353, 157.69807481,  91.95452774,\n",
       "         79.14313824, 157.80003142, 209.03633204, 149.669623  ,\n",
       "        163.60611082, 166.13115641, 114.31356155,  87.06185823,\n",
       "        128.90952998, 128.54310496, 166.1606098 , 172.1503303 ,\n",
       "         94.31633051, 157.54477133, 188.00943363, 192.75949925],\n",
       "       [222.74057768,  87.1874742 , 121.78807081, 129.84300395,\n",
       "        170.35777632, 124.30815014, 113.99621778, 178.7361974 ,\n",
       "        136.70512708, 193.52222386, 179.31761888, 124.46152674,\n",
       "        130.03261359, 166.73232401, 138.65914509, 128.79047091,\n",
       "         72.332937  , 101.14557107, 120.22155855, 184.11446461,\n",
       "        153.45296765, 137.79159206, 158.89358716, 118.86826286,\n",
       "        189.65428202, 158.41810369, 149.84260453, 113.99621778,\n",
       "        151.30147995, 204.5648531 , 200.8779523 , 117.86224137,\n",
       "        153.51292792, 123.56375001, 155.47777339, 239.07347168,\n",
       "        179.5577712 , 146.82306507, 194.30767395, 121.45779942,\n",
       "        135.50242957,  78.38806803, 157.6519608 , 153.13426609,\n",
       "         85.9537715 , 205.75153562, 141.39557974, 173.71258788,\n",
       "        166.83668749, 173.88546414, 231.12389585, 123.64235336,\n",
       "        167.18432611, 142.37133538, 125.93448118, 168.71831612,\n",
       "        146.09131678, 139.06738101, 191.97971035, 134.52894222,\n",
       "        149.57105589,  96.74320836, 123.95559576, 109.2922715 ,\n",
       "        161.14337918, 160.08738525, 196.59311784, 165.4587647 ,\n",
       "         91.55164843, 145.01752096, 153.06852053, 197.7497968 ,\n",
       "        166.21287861, 144.1372748 , 147.41973773, 213.43018535,\n",
       "        173.53977945, 179.33241372, 107.14812925, 146.91690492,\n",
       "        133.86234836, 198.22418401, 156.60488155,  88.31805373,\n",
       "         77.09213547, 158.31868019, 206.4031445 , 151.30147995,\n",
       "        164.03985782, 166.14753894, 110.91715702,  85.60972899,\n",
       "        126.8697757 , 125.93448118, 163.51440893, 170.97203385,\n",
       "         92.21863222, 153.31654701, 187.45291641, 190.65418851]])"
      ]
     },
     "execution_count": 61,
     "metadata": {},
     "output_type": "execute_result"
    }
   ],
   "source": [
    "np.matmul(W,X_)"
   ]
  },
  {
   "cell_type": "code",
   "execution_count": 62,
   "metadata": {},
   "outputs": [],
   "source": [
    "# len(np.matmul(W,X_.T).T + B)"
   ]
  },
  {
   "cell_type": "code",
   "execution_count": 63,
   "metadata": {},
   "outputs": [],
   "source": [
    "param = W.ravel()\n",
    "\n",
    "# loss(param, X[2], y_true[2])"
   ]
  },
  {
   "cell_type": "code",
   "execution_count": 64,
   "metadata": {},
   "outputs": [
    {
     "data": {
      "text/plain": [
       "(3250,)"
      ]
     },
     "execution_count": 64,
     "metadata": {},
     "output_type": "execute_result"
    }
   ],
   "source": [
    "param.shape"
   ]
  },
  {
   "cell_type": "code",
   "execution_count": 65,
   "metadata": {},
   "outputs": [
    {
     "name": "stdout",
     "output_type": "stream",
     "text": [
      "1.05 s ± 34.9 ms per loop (mean ± std. dev. of 7 runs, 1 loop each)\n"
     ]
    }
   ],
   "source": [
    "DELTA = 5\n",
    "%timeit jacobian(param)"
   ]
  },
  {
   "cell_type": "code",
   "execution_count": 46,
   "metadata": {},
   "outputs": [
    {
     "data": {
      "text/plain": [
       "array([[-24.17254902, -22.2745098 , -23.51372549, ..., -44.        ,\n",
       "        -44.        , -44.        ],\n",
       "       [ -3.46666667,  -4.0745098 ,  -4.35686275, ...,  -7.        ,\n",
       "         -7.        ,  -7.        ],\n",
       "       [  4.9254902 ,   4.1372549 ,   5.18039216, ...,   2.        ,\n",
       "          2.        ,   2.        ],\n",
       "       [  8.98431373,   9.18823529,   9.03529412, ...,  22.        ,\n",
       "         22.        ,  22.        ],\n",
       "       [ 13.72941176,  13.02352941,  13.65490196, ...,  27.        ,\n",
       "         27.        ,  27.        ]])"
      ]
     },
     "execution_count": 46,
     "metadata": {},
     "output_type": "execute_result"
    }
   ],
   "source": [
    "dW = jacobian(param)\n",
    "dW.reshape(No_of_Classes, image_height*image_width + image_width)"
   ]
  },
  {
   "cell_type": "code",
   "execution_count": 47,
   "metadata": {},
   "outputs": [
    {
     "name": "stdout",
     "output_type": "stream",
     "text": [
      "1894.6662704359312\n",
      "[-24.17254902 -22.2745098  -23.51372549 ...  27.          27.\n",
      "  27.        ]\n"
     ]
    }
   ],
   "source": [
    "print(objective(param))\n",
    "print(jacobian(param))"
   ]
  },
  {
   "cell_type": "code",
   "execution_count": 48,
   "metadata": {},
   "outputs": [
    {
     "name": "stdout",
     "output_type": "stream",
     "text": [
      "1.53 ms ± 116 µs per loop (mean ± std. dev. of 7 runs, 1000 loops each)\n"
     ]
    }
   ],
   "source": [
    "%timeit objective(param)"
   ]
  },
  {
   "cell_type": "code",
   "execution_count": 49,
   "metadata": {
    "scrolled": true
   },
   "outputs": [
    {
     "ename": "MemoryError",
     "evalue": "",
     "output_type": "error",
     "traceback": [
      "\u001b[0;31m---------------------------------------------------------------------------\u001b[0m",
      "\u001b[0;31mMemoryError\u001b[0m                               Traceback (most recent call last)",
      "\u001b[0;32m<ipython-input-49-c3c760bf66b1>\u001b[0m in \u001b[0;36m<module>\u001b[0;34m()\u001b[0m\n\u001b[1;32m      3\u001b[0m \u001b[0;31m# X_array = minimize(objective, param, options={'maxiter': 5, 'disp': True})\u001b[0m\u001b[0;34m\u001b[0m\u001b[0;34m\u001b[0m\u001b[0m\n\u001b[1;32m      4\u001b[0m \u001b[0mseconds\u001b[0m \u001b[0;34m=\u001b[0m \u001b[0mtime\u001b[0m\u001b[0;34m.\u001b[0m\u001b[0mtime\u001b[0m\u001b[0;34m(\u001b[0m\u001b[0;34m)\u001b[0m\u001b[0;34m\u001b[0m\u001b[0m\n\u001b[0;32m----> 5\u001b[0;31m \u001b[0mX_array\u001b[0m \u001b[0;34m=\u001b[0m \u001b[0mminimize\u001b[0m\u001b[0;34m(\u001b[0m\u001b[0mobjective\u001b[0m\u001b[0;34m,\u001b[0m \u001b[0mparam\u001b[0m\u001b[0;34m,\u001b[0m \u001b[0mjac\u001b[0m\u001b[0;34m=\u001b[0m\u001b[0mjacobian\u001b[0m\u001b[0;34m,\u001b[0m \u001b[0mmethod\u001b[0m\u001b[0;34m=\u001b[0m\u001b[0;34m'BFGS'\u001b[0m\u001b[0;34m)\u001b[0m\u001b[0;34m\u001b[0m\u001b[0m\n\u001b[0m\u001b[1;32m      6\u001b[0m \u001b[0mprint\u001b[0m\u001b[0;34m(\u001b[0m\u001b[0;34m\"Seconds since =\"\u001b[0m\u001b[0;34m,\u001b[0m \u001b[0mtime\u001b[0m\u001b[0;34m.\u001b[0m\u001b[0mtime\u001b[0m\u001b[0;34m(\u001b[0m\u001b[0;34m)\u001b[0m \u001b[0;34m-\u001b[0m \u001b[0mseconds\u001b[0m\u001b[0;34m)\u001b[0m\u001b[0;34m\u001b[0m\u001b[0m\n",
      "\u001b[0;32m~/virtualenv/Kaggle/lib/python3.5/site-packages/scipy/optimize/_minimize.py\u001b[0m in \u001b[0;36mminimize\u001b[0;34m(fun, x0, args, method, jac, hess, hessp, bounds, constraints, tol, callback, options)\u001b[0m\n\u001b[1;32m    602\u001b[0m         \u001b[0;32mreturn\u001b[0m \u001b[0m_minimize_cg\u001b[0m\u001b[0;34m(\u001b[0m\u001b[0mfun\u001b[0m\u001b[0;34m,\u001b[0m \u001b[0mx0\u001b[0m\u001b[0;34m,\u001b[0m \u001b[0margs\u001b[0m\u001b[0;34m,\u001b[0m \u001b[0mjac\u001b[0m\u001b[0;34m,\u001b[0m \u001b[0mcallback\u001b[0m\u001b[0;34m,\u001b[0m \u001b[0;34m**\u001b[0m\u001b[0moptions\u001b[0m\u001b[0;34m)\u001b[0m\u001b[0;34m\u001b[0m\u001b[0m\n\u001b[1;32m    603\u001b[0m     \u001b[0;32melif\u001b[0m \u001b[0mmeth\u001b[0m \u001b[0;34m==\u001b[0m \u001b[0;34m'bfgs'\u001b[0m\u001b[0;34m:\u001b[0m\u001b[0;34m\u001b[0m\u001b[0m\n\u001b[0;32m--> 604\u001b[0;31m         \u001b[0;32mreturn\u001b[0m \u001b[0m_minimize_bfgs\u001b[0m\u001b[0;34m(\u001b[0m\u001b[0mfun\u001b[0m\u001b[0;34m,\u001b[0m \u001b[0mx0\u001b[0m\u001b[0;34m,\u001b[0m \u001b[0margs\u001b[0m\u001b[0;34m,\u001b[0m \u001b[0mjac\u001b[0m\u001b[0;34m,\u001b[0m \u001b[0mcallback\u001b[0m\u001b[0;34m,\u001b[0m \u001b[0;34m**\u001b[0m\u001b[0moptions\u001b[0m\u001b[0;34m)\u001b[0m\u001b[0;34m\u001b[0m\u001b[0m\n\u001b[0m\u001b[1;32m    605\u001b[0m     \u001b[0;32melif\u001b[0m \u001b[0mmeth\u001b[0m \u001b[0;34m==\u001b[0m \u001b[0;34m'newton-cg'\u001b[0m\u001b[0;34m:\u001b[0m\u001b[0;34m\u001b[0m\u001b[0m\n\u001b[1;32m    606\u001b[0m         return _minimize_newtoncg(fun, x0, args, jac, hess, hessp, callback,\n",
      "\u001b[0;32m~/virtualenv/Kaggle/lib/python3.5/site-packages/scipy/optimize/optimize.py\u001b[0m in \u001b[0;36m_minimize_bfgs\u001b[0;34m(fun, x0, args, jac, callback, gtol, norm, eps, maxiter, disp, return_all, **unknown_options)\u001b[0m\n\u001b[1;32m   1065\u001b[0m             \u001b[0;32mif\u001b[0m \u001b[0mdisp\u001b[0m\u001b[0;34m:\u001b[0m\u001b[0;34m\u001b[0m\u001b[0m\n\u001b[1;32m   1066\u001b[0m                 \u001b[0mprint\u001b[0m\u001b[0;34m(\u001b[0m\u001b[0;34m\"Divide-by-zero encountered: rhok assumed large\"\u001b[0m\u001b[0;34m)\u001b[0m\u001b[0;34m\u001b[0m\u001b[0m\n\u001b[0;32m-> 1067\u001b[0;31m         \u001b[0mA1\u001b[0m \u001b[0;34m=\u001b[0m \u001b[0mI\u001b[0m \u001b[0;34m-\u001b[0m \u001b[0msk\u001b[0m\u001b[0;34m[\u001b[0m\u001b[0;34m:\u001b[0m\u001b[0;34m,\u001b[0m \u001b[0mnumpy\u001b[0m\u001b[0;34m.\u001b[0m\u001b[0mnewaxis\u001b[0m\u001b[0;34m]\u001b[0m \u001b[0;34m*\u001b[0m \u001b[0myk\u001b[0m\u001b[0;34m[\u001b[0m\u001b[0mnumpy\u001b[0m\u001b[0;34m.\u001b[0m\u001b[0mnewaxis\u001b[0m\u001b[0;34m,\u001b[0m \u001b[0;34m:\u001b[0m\u001b[0;34m]\u001b[0m \u001b[0;34m*\u001b[0m \u001b[0mrhok\u001b[0m\u001b[0;34m\u001b[0m\u001b[0m\n\u001b[0m\u001b[1;32m   1068\u001b[0m         \u001b[0mA2\u001b[0m \u001b[0;34m=\u001b[0m \u001b[0mI\u001b[0m \u001b[0;34m-\u001b[0m \u001b[0myk\u001b[0m\u001b[0;34m[\u001b[0m\u001b[0;34m:\u001b[0m\u001b[0;34m,\u001b[0m \u001b[0mnumpy\u001b[0m\u001b[0;34m.\u001b[0m\u001b[0mnewaxis\u001b[0m\u001b[0;34m]\u001b[0m \u001b[0;34m*\u001b[0m \u001b[0msk\u001b[0m\u001b[0;34m[\u001b[0m\u001b[0mnumpy\u001b[0m\u001b[0;34m.\u001b[0m\u001b[0mnewaxis\u001b[0m\u001b[0;34m,\u001b[0m \u001b[0;34m:\u001b[0m\u001b[0;34m]\u001b[0m \u001b[0;34m*\u001b[0m \u001b[0mrhok\u001b[0m\u001b[0;34m\u001b[0m\u001b[0m\n\u001b[1;32m   1069\u001b[0m         Hk = numpy.dot(A1, numpy.dot(Hk, A2)) + (rhok * sk[:, numpy.newaxis] *\n",
      "\u001b[0;31mMemoryError\u001b[0m: "
     ]
    }
   ],
   "source": [
    "DELTA = 5\n",
    "# COBYLA\n",
    "# X_array = minimize(objective, param, options={'maxiter': 5, 'disp': True})\n",
    "seconds = time.time()\n",
    "X_array = minimize(objective, param, jac=jacobian, method='BFGS')\n",
    "print(\"Seconds since =\", time.time() - seconds)"
   ]
  },
  {
   "cell_type": "code",
   "execution_count": 24,
   "metadata": {},
   "outputs": [
    {
     "data": {
      "text/plain": [
       "      fun: 0.0\n",
       " hess_inv: array([[ 9.96957853e-01, -3.28685427e-03, -3.40768300e-03, ...,\n",
       "         8.43746942e-04,  8.43746942e-04,  8.43746942e-04],\n",
       "       [-3.28685427e-03,  9.96001971e-01, -4.24344570e-03, ...,\n",
       "         3.33766346e-04,  3.33766346e-04,  3.33766346e-04],\n",
       "       [-3.40768300e-03, -4.24344570e-03,  9.94729173e-01, ...,\n",
       "        -1.99580977e-04, -1.99580977e-04, -1.99580977e-04],\n",
       "       ...,\n",
       "       [ 8.43746942e-04,  3.33766346e-04, -1.99580977e-04, ...,\n",
       "         9.89895593e-01, -1.01044072e-02, -1.01044072e-02],\n",
       "       [ 8.43746942e-04,  3.33766346e-04, -1.99580977e-04, ...,\n",
       "        -1.01044072e-02,  9.89895593e-01, -1.01044072e-02],\n",
       "       [ 8.43746942e-04,  3.33766346e-04, -1.99580977e-04, ...,\n",
       "        -1.01044072e-02, -1.01044072e-02,  9.89895593e-01]])\n",
       "      jac: array([0., 0., 0., ..., 0., 0., 0.])\n",
       "  message: 'Optimization terminated successfully.'\n",
       "     nfev: 21\n",
       "      nit: 19\n",
       "     njev: 21\n",
       "   status: 0\n",
       "  success: True\n",
       "        x: array([0.85903599, 0.68992868, 0.48850883, ..., 0.72048296, 0.41089168,\n",
       "       0.42904597])"
      ]
     },
     "execution_count": 24,
     "metadata": {},
     "output_type": "execute_result"
    }
   ],
   "source": [
    "X_array"
   ]
  },
  {
   "cell_type": "code",
   "execution_count": 25,
   "metadata": {},
   "outputs": [
    {
     "data": {
      "text/plain": [
       "130.0"
      ]
     },
     "execution_count": 25,
     "metadata": {},
     "output_type": "execute_result"
    }
   ],
   "source": [
    "X_array.x.shape[0]/25"
   ]
  },
  {
   "cell_type": "code",
   "execution_count": 26,
   "metadata": {},
   "outputs": [],
   "source": [
    "W_best = X_array.x[:No_of_Classes*(image_height*image_width + image_width)].reshape(No_of_Classes, image_height*image_width+image_width)\n",
    "\n"
   ]
  },
  {
   "cell_type": "code",
   "execution_count": 27,
   "metadata": {
    "scrolled": true
   },
   "outputs": [
    {
     "data": {
      "text/plain": [
       "(650,)"
      ]
     },
     "execution_count": 27,
     "metadata": {},
     "output_type": "execute_result"
    }
   ],
   "source": [
    "W_best[0].shape"
   ]
  },
  {
   "cell_type": "code",
   "execution_count": 33,
   "metadata": {},
   "outputs": [
    {
     "data": {
      "text/plain": [
       "<matplotlib.image.AxesImage at 0x7ff58abcffd0>"
      ]
     },
     "execution_count": 33,
     "metadata": {},
     "output_type": "execute_result"
    },
    {
     "data": {
      "image/png": "[encoded data removed]",
      "text/plain": [
       "<Figure size 432x288 with 1 Axes>"
      ]
     },
     "metadata": {},
     "output_type": "display_data"
    }
   ],
   "source": [
    "plt.imshow(W_best[0].reshape(image_width, image_height + 1))"
   ]
  },
  {
   "cell_type": "code",
   "execution_count": 30,
   "metadata": {},
   "outputs": [],
   "source": [
    "y_pred = np.matmul(W_best,X_)"
   ]
  },
  {
   "cell_type": "code",
   "execution_count": 31,
   "metadata": {},
   "outputs": [
    {
     "data": {
      "text/plain": [
       "array([137.92369129, 135.81872438, 139.60427584, 148.28622185,\n",
       "       138.59687387])"
      ]
     },
     "execution_count": 31,
     "metadata": {},
     "output_type": "execute_result"
    }
   ],
   "source": [
    "y_pred[:,10]"
   ]
  },
  {
   "cell_type": "code",
   "execution_count": 32,
   "metadata": {},
   "outputs": [
    {
     "name": "stdout",
     "output_type": "stream",
     "text": [
      "2\n",
      "3\n",
      "3\n",
      "0\n",
      "1\n",
      "2\n",
      "0\n",
      "3\n",
      "0\n",
      "2\n",
      "3\n",
      "3\n",
      "3\n",
      "1\n",
      "4\n",
      "2\n",
      "3\n",
      "1\n",
      "0\n",
      "4\n",
      "2\n",
      "3\n",
      "2\n",
      "4\n",
      "3\n",
      "1\n",
      "4\n",
      "2\n",
      "0\n",
      "4\n",
      "1\n",
      "2\n",
      "4\n",
      "2\n",
      "0\n",
      "1\n",
      "2\n",
      "0\n",
      "1\n",
      "0\n",
      "1\n",
      "3\n",
      "4\n",
      "4\n",
      "1\n",
      "1\n",
      "3\n",
      "4\n",
      "2\n",
      "4\n",
      "4\n",
      "0\n",
      "1\n",
      "0\n",
      "0\n"
     ]
    }
   ],
   "source": [
    "for i in range(y_pred.shape[1]):\n",
    "#     print(y_pred[:, i])\n",
    "    print(np.where(y_pred[:, i] == max(y_pred[:, i]))[0][0])"
   ]
  },
  {
   "cell_type": "code",
   "execution_count": null,
   "metadata": {},
   "outputs": [],
   "source": [
    "for y_p in y_pred:\n",
    "    print(y_p)\n",
    "    print(np.where(y_p == max(y_p))[0][0])"
   ]
  },
  {
   "cell_type": "code",
   "execution_count": null,
   "metadata": {},
   "outputs": [],
   "source": [
    "X[0].shape"
   ]
  },
  {
   "cell_type": "code",
   "execution_count": null,
   "metadata": {},
   "outputs": [],
   "source": [
    "np.matmul(W, X[0])"
   ]
  },
  {
   "cell_type": "code",
   "execution_count": null,
   "metadata": {},
   "outputs": [],
   "source": [
    "print(W.shape)\n",
    "B.shape"
   ]
  },
  {
   "cell_type": "code",
   "execution_count": null,
   "metadata": {},
   "outputs": [],
   "source": [
    "param.shape"
   ]
  },
  {
   "cell_type": "code",
   "execution_count": null,
   "metadata": {},
   "outputs": [],
   "source": []
  }
 ],
 "metadata": {
  "kernelspec": {
   "display_name": "Kaggle",
   "language": "python",
   "name": "kaggle"
  },
  "language_info": {
   "codemirror_mode": {
    "name": "ipython",
    "version": 3
   },
   "file_extension": ".py",
   "mimetype": "text/x-python",
   "name": "python",
   "nbconvert_exporter": "python",
   "pygments_lexer": "ipython3",
   "version": "3.5.2"
  }
 },
 "nbformat": 4,
 "nbformat_minor": 2
}
