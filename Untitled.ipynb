{
 "cells": [
  {
   "cell_type": "code",
   "execution_count": 1,
   "metadata": {},
   "outputs": [
    {
     "data": {
      "text/plain": [
       "<Figure size 2880x2880 with 0 Axes>"
      ]
     },
     "metadata": {},
     "output_type": "display_data"
    }
   ],
   "source": [
    "import cv2\n",
    "import os\n",
    "\n",
    "from matplotlib import pyplot as plt\n",
    "%matplotlib inline\n",
    "\n",
    "plt.figure(figsize=(40,40))\n",
    "\n",
    "import numpy as np\n",
    "from scipy.optimize import minimize"
   ]
  },
  {
   "cell_type": "code",
   "execution_count": 2,
   "metadata": {},
   "outputs": [],
   "source": [
    "import random\n",
    "import time"
   ]
  },
  {
   "cell_type": "code",
   "execution_count": 3,
   "metadata": {},
   "outputs": [],
   "source": [
    "images = []\n",
    "labels = []\n",
    "count = 0\n",
    "limit = 5\n",
    "for root, dirs, files in os.walk(\"../training/training/n0\", topdown=False):\n",
    "    for name in files:\n",
    "#         print(os.path.join(root, name))\n",
    "        images.append([os.path.join(root, name), 0])\n",
    "#         labels.append(0)\n",
    "#     for name in dirs:\n",
    "#         print(os.path.join(root, name))\n",
    "        count += 1\n",
    "        if count > limit:\n",
    "            break\n",
    "            \n",
    "count = 0\n",
    "for root, dirs, files in os.walk(\"../training/training/n1\", topdown=False):\n",
    "    for name in files:\n",
    "#         print(os.path.join(root, name))\n",
    "        images.append([os.path.join(root, name), 1])\n",
    "#         labels.append(1)\n",
    "        count += 1\n",
    "        if count > limit:\n",
    "            break\n",
    "            \n",
    "count = 0\n",
    "for root, dirs, files in os.walk(\"../training/training/n2\", topdown=False):\n",
    "    for name in files:\n",
    "#         print(os.path.join(root, name))\n",
    "        images.append([os.path.join(root, name), 2])\n",
    "#         labels.append(2)\n",
    "        count += 1\n",
    "        if count > limit:\n",
    "            break\n",
    "            \n",
    "count = 0\n",
    "for root, dirs, files in os.walk(\"../training/training/n3\", topdown=False):\n",
    "    for name in files:\n",
    "#         print(os.path.join(root, name))\n",
    "        images.append([os.path.join(root, name) ,3])\n",
    "#         labels.append(3)\n",
    "        count += 1\n",
    "        if count > limit:\n",
    "            break\n",
    "            \n",
    "count = 0\n",
    "for root, dirs, files in os.walk(\"../training/training/n4\", topdown=False):\n",
    "    for name in files:\n",
    "#         print(os.path.join(root, name))\n",
    "        images.append([os.path.join(root, name), 4])\n",
    "#         labels.append(4)\n",
    "        count += 1\n",
    "        if count > limit:\n",
    "            break"
   ]
  },
  {
   "cell_type": "code",
   "execution_count": 4,
   "metadata": {
    "scrolled": true
   },
   "outputs": [
    {
     "data": {
      "text/plain": [
       "[['../training/training/n2/n2161.jpg', 2],\n",
       " ['../training/training/n3/n3135.jpg', 3],\n",
       " ['../training/training/n3/n3069.jpg', 3],\n",
       " ['../training/training/n0/n0164.jpg', 0],\n",
       " ['../training/training/n0/n0171.jpg', 0],\n",
       " ['../training/training/n1/n1118.jpg', 1],\n",
       " ['../training/training/n0/n0038.jpg', 0],\n",
       " ['../training/training/n4/n4128.jpg', 4],\n",
       " ['../training/training/n0/n0159.jpg', 0],\n",
       " ['../training/training/n2/n2029.jpg', 2],\n",
       " ['../training/training/n4/n4060.jpg', 4],\n",
       " ['../training/training/n1/n1044.jpg', 1],\n",
       " ['../training/training/n1/n1050.jpg', 1],\n",
       " ['../training/training/n0/n0158.jpg', 0],\n",
       " ['../training/training/n2/n2148.jpg', 2],\n",
       " ['../training/training/n4/n4115.jpg', 4],\n",
       " ['../training/training/n3/n3041.jpg', 3],\n",
       " ['../training/training/n3/n3120.jpg', 3],\n",
       " ['../training/training/n2/n2160.jpg', 2],\n",
       " ['../training/training/n4/n4114.jpg', 4],\n",
       " ['../training/training/n3/n3055.jpg', 3],\n",
       " ['../training/training/n2/n2149.jpg', 2],\n",
       " ['../training/training/n4/n4048.jpg', 4],\n",
       " ['../training/training/n1/n1124.jpg', 1],\n",
       " ['../training/training/n4/n4129.jpg', 4],\n",
       " ['../training/training/n0/n0170.jpg', 0],\n",
       " ['../training/training/n1/n1130.jpg', 1],\n",
       " ['../training/training/n3/n3121.jpg', 3],\n",
       " ['../training/training/n1/n1051.jpg', 1],\n",
       " ['../training/training/n2/n2028.jpg', 2]]"
      ]
     },
     "execution_count": 4,
     "metadata": {},
     "output_type": "execute_result"
    }
   ],
   "source": [
    "random.shuffle(images)\n",
    "images"
   ]
  },
  {
   "cell_type": "code",
   "execution_count": 5,
   "metadata": {},
   "outputs": [],
   "source": [
    "files = [i[0] for i in images]\n",
    "labels = [i[1] for i in images]"
   ]
  },
  {
   "cell_type": "code",
   "execution_count": 6,
   "metadata": {},
   "outputs": [
    {
     "data": {
      "text/plain": [
       "[2,\n",
       " 3,\n",
       " 3,\n",
       " 0,\n",
       " 0,\n",
       " 1,\n",
       " 0,\n",
       " 4,\n",
       " 0,\n",
       " 2,\n",
       " 4,\n",
       " 1,\n",
       " 1,\n",
       " 0,\n",
       " 2,\n",
       " 4,\n",
       " 3,\n",
       " 3,\n",
       " 2,\n",
       " 4,\n",
       " 3,\n",
       " 2,\n",
       " 4,\n",
       " 1,\n",
       " 4,\n",
       " 0,\n",
       " 1,\n",
       " 3,\n",
       " 1,\n",
       " 2]"
      ]
     },
     "execution_count": 6,
     "metadata": {},
     "output_type": "execute_result"
    }
   ],
   "source": [
    "labels"
   ]
  },
  {
   "cell_type": "code",
   "execution_count": 7,
   "metadata": {},
   "outputs": [],
   "source": [
    "image_height = 5\n",
    "image_width = 5\n",
    "\n",
    "No_of_Images = len(files)\n",
    "No_of_Classes = len(set(labels))\n",
    "\n",
    "classes = np.random.randint(No_of_Classes, size=No_of_Images)\n",
    "y_true = np.zeros((classes.size, classes.max()+1))\n",
    "y_true[np.arange(classes.size), classes] = 1"
   ]
  },
  {
   "cell_type": "code",
   "execution_count": 8,
   "metadata": {},
   "outputs": [],
   "source": [
    "def readImage(path, width=56, height=60):\n",
    "    # Using cv2.imread() method\n",
    "    # Using 0 to read image in grayscale mode\n",
    "    img = cv2.imread(path, 0)\n",
    "    dim = (width, height)\n",
    "    # resize image\n",
    "    resized = cv2.resize(img, dim, interpolation=cv2.INTER_AREA)/255\n",
    "    # add a new row of 1\n",
    "    A = np.ones(width).reshape(1,width)\n",
    "    resized = np.vstack([resized, A])\n",
    "\n",
    "    return resized"
   ]
  },
  {
   "cell_type": "code",
   "execution_count": 35,
   "metadata": {},
   "outputs": [],
   "source": [
    "def costFunction(y_true, y_pred):\n",
    "    # find the y_pred value for the actual image index\n",
    "    index = np.where(y_true == 1)[0][0]\n",
    "    cost = 0\n",
    "    for i in range(len(y_true)):\n",
    "        if i != index:\n",
    "            cost+= max(0, y_pred[i] - y_pred[index] + 1)\n",
    "    return cost\n",
    "\n",
    "def loss(params, image, y_true):\n",
    "    W = params[:No_of_Classes*image_height*image_width].reshape(No_of_Classes, image_height*image_width)\n",
    "    B = params[No_of_Classes*image_height*image_width:].reshape(1, No_of_Classes)\n",
    "    y_pred = np.matmul(W,image) + B\n",
    "#     print(y_pred)\n",
    "        \n",
    "    return costFunction(y_true, y_pred[0])\n",
    "\n",
    "def jacobian(params):\n",
    "    W = params.reshape(No_of_Classes, image_height*image_width+image_width)        \n",
    "    dW = np.zeros(No_of_Classes*(image_height*image_width + image_width)).reshape(No_of_Classes, \n",
    "                                                                                   image_height*image_width + \n",
    "                                                                                     image_width)\n",
    "    \n",
    "    P = np.matmul(W, X_.T )\n",
    "    \n",
    "    for i in range(W.shape[0]):\n",
    "        for j in range(W.shape[1]):\n",
    "            for k in range(len(labels)):\n",
    "                if labels[k] != i:\n",
    "                    if P[i][k] - P[labels[k]][k] + DELTA > 0:\n",
    "                        dW[i][j] += X_.T[j][k]\n",
    "                    else:\n",
    "                        dW[i][j] -= X_.T[j][k]\n",
    "\n",
    "    return dW.ravel()\n",
    "            \n",
    "\n",
    "def objective(params):\n",
    "    W = params.reshape(No_of_Classes, image_height*image_width+image_width)\n",
    "#     B = params[No_of_Classes*image_height*image_width:].reshape(1, No_of_Classes)\n",
    "#     y_pred = np.matmul(X_, W.T )\n",
    "    y_pred = np.matmul(W, X_.T)\n",
    "    total_loss = [costFunction(y_true[i], y_pred[:, i]) for i in range(len(y_true))]\n",
    "#     total_loss = []\n",
    "#     for i in range(len(images)):\n",
    "#         total_loss.append(loss(params, X[i], y_true[i]))\n",
    "#     print(sum(total_loss))\n",
    "    return sum(total_loss)"
   ]
  },
  {
   "cell_type": "code",
   "execution_count": 36,
   "metadata": {},
   "outputs": [
    {
     "name": "stdout",
     "output_type": "stream",
     "text": [
      "(5, 30)\n"
     ]
    }
   ],
   "source": [
    "W = np.random.rand(No_of_Classes, image_height*image_width+image_width)\n",
    "# # W = np.zeros(No_of_Classes*image_height*image_width).reshape(No_of_Classes, image_height*image_width)\n",
    "# W = np.full((No_of_Classes, image_height*image_width), 0.5)\n",
    "# B = np.random.rand(1, No_of_Classes)\n",
    "\n",
    "# param = np.append(W.ravel(), B.ravel())\n",
    "param = W.ravel()\n",
    "\n",
    "\n",
    "print(W.shape)\n",
    "# print(B.shape)"
   ]
  },
  {
   "cell_type": "code",
   "execution_count": 37,
   "metadata": {},
   "outputs": [],
   "source": [
    "X = []\n",
    "\n",
    "for i in files:\n",
    "    X.append(readImage(i, width = image_width, height=image_height).ravel())\n",
    "    \n",
    "X_ = np.array(X)"
   ]
  },
  {
   "cell_type": "code",
   "execution_count": 38,
   "metadata": {},
   "outputs": [
    {
     "data": {
      "text/plain": [
       "array([10.06113289, 11.43436513, 10.09214727,  8.04979391, 12.09576242])"
      ]
     },
     "execution_count": 38,
     "metadata": {},
     "output_type": "execute_result"
    }
   ],
   "source": [
    "np.matmul(W,X[1])"
   ]
  },
  {
   "cell_type": "code",
   "execution_count": 39,
   "metadata": {},
   "outputs": [],
   "source": [
    "# len(np.matmul(W,X_.T).T + B)"
   ]
  },
  {
   "cell_type": "code",
   "execution_count": 40,
   "metadata": {},
   "outputs": [],
   "source": [
    "param = W.ravel()\n",
    "\n",
    "# loss(param, X[2], y_true[2])"
   ]
  },
  {
   "cell_type": "code",
   "execution_count": 41,
   "metadata": {},
   "outputs": [
    {
     "data": {
      "text/plain": [
       "(150,)"
      ]
     },
     "execution_count": 41,
     "metadata": {},
     "output_type": "execute_result"
    }
   ],
   "source": [
    "param.shape"
   ]
  },
  {
   "cell_type": "code",
   "execution_count": 42,
   "metadata": {},
   "outputs": [
    {
     "name": "stdout",
     "output_type": "stream",
     "text": [
      "9.59 ms ± 314 µs per loop (mean ± std. dev. of 7 runs, 100 loops each)\n"
     ]
    }
   ],
   "source": [
    "DELTA = 5\n",
    "%timeit jacobian(param)"
   ]
  },
  {
   "cell_type": "code",
   "execution_count": 43,
   "metadata": {},
   "outputs": [
    {
     "data": {
      "text/plain": [
       "(150,)"
      ]
     },
     "execution_count": 43,
     "metadata": {},
     "output_type": "execute_result"
    }
   ],
   "source": [
    "dW = jacobian(param)\n",
    "dW.ravel().shape"
   ]
  },
  {
   "cell_type": "code",
   "execution_count": 44,
   "metadata": {},
   "outputs": [
    {
     "name": "stdout",
     "output_type": "stream",
     "text": [
      "104.29750320727888\n",
      "[ 9.30196078  9.95686275 10.41176471  9.78431373  9.51372549  9.76862745\n",
      " 10.34901961 10.36078431 10.18431373  9.57647059  8.90588235  9.47843137\n",
      "  8.93333333  9.65098039  9.41960784  8.7372549   9.57254902  9.09411765\n",
      "  9.65882353 10.30588235  9.23137255  9.82352941  9.81568627 10.75294118\n",
      "  9.86666667 24.         24.         24.         24.         24.\n",
      " 10.58823529 11.76470588 12.05490196 11.19607843 10.4627451  11.32941176\n",
      " 11.10196078 10.29019608 11.0627451  10.98823529 10.87058824  9.90980392\n",
      "  7.97647059  9.69411765 10.28627451  9.9372549   9.44313725  8.05490196\n",
      "  9.83137255 11.23137255  9.76078431  9.70588235  9.58431373  9.76470588\n",
      " 10.31372549 24.         24.         24.         24.         24.\n",
      "  9.14901961 10.83137255 10.96470588 10.76078431  9.5254902  10.58039216\n",
      " 11.37647059 10.32156863 11.10588235  9.83921569 10.08235294 10.51764706\n",
      "  8.91764706 10.5372549   9.76862745  9.17647059 10.05882353  8.77647059\n",
      " 10.26666667 10.57254902  9.7254902  10.43137255 10.05882353 10.80784314\n",
      " 10.11764706 24.         24.         24.         24.         24.\n",
      "  9.81176471 11.34117647 11.00392157 10.74509804  9.71372549 10.4627451\n",
      " 10.40392157  9.78039216 10.18431373  9.68627451 10.11764706  9.63529412\n",
      "  7.54117647  9.05882353  9.60784314  8.83137255  8.91764706  8.05882353\n",
      "  8.95294118 10.09411765  9.14509804  9.60392157  9.93333333  9.91764706\n",
      "  9.83137255 24.         24.         24.         24.         24.\n",
      " 10.48235294 11.63529412 11.89411765 11.97647059 10.88627451 10.90980392\n",
      " 11.52941176 11.12156863 11.25098039 10.3254902  10.47058824 10.10588235\n",
      "  8.84313725  9.30980392  9.85882353  9.37254902  9.36470588  8.05490196\n",
      "  9.22745098 10.56470588  9.90196078 10.34901961  9.89411765 10.50588235\n",
      " 11.07058824 24.         24.         24.         24.         24.        ]\n"
     ]
    }
   ],
   "source": [
    "print(objective(param))\n",
    "print(jacobian(param))"
   ]
  },
  {
   "cell_type": "code",
   "execution_count": 45,
   "metadata": {},
   "outputs": [
    {
     "name": "stdout",
     "output_type": "stream",
     "text": [
      "347 µs ± 6.65 µs per loop (mean ± std. dev. of 7 runs, 1000 loops each)\n"
     ]
    }
   ],
   "source": [
    "%timeit objective(param)"
   ]
  },
  {
   "cell_type": "code",
   "execution_count": 46,
   "metadata": {
    "scrolled": true
   },
   "outputs": [
    {
     "name": "stdout",
     "output_type": "stream",
     "text": [
      "Seconds since = 0.39594388008117676\n"
     ]
    }
   ],
   "source": [
    "DELTA = 5\n",
    "# COBYLA\n",
    "# X_array = minimize(objective, param, options={'maxiter': 5, 'disp': True})\n",
    "seconds = time.time()\n",
    "X_array = minimize(objective, param, jac=jacobian, method='BFGS')\n",
    "print(\"Seconds since =\", time.time() - seconds)"
   ]
  },
  {
   "cell_type": "code",
   "execution_count": 47,
   "metadata": {},
   "outputs": [
    {
     "data": {
      "text/plain": [
       "      fun: 104.29750320727888\n",
       " hess_inv: array([[1, 0, 0, ..., 0, 0, 0],\n",
       "       [0, 1, 0, ..., 0, 0, 0],\n",
       "       [0, 0, 1, ..., 0, 0, 0],\n",
       "       ...,\n",
       "       [0, 0, 0, ..., 1, 0, 0],\n",
       "       [0, 0, 0, ..., 0, 1, 0],\n",
       "       [0, 0, 0, ..., 0, 0, 1]])\n",
       "      jac: array([ 9.30196078,  9.95686275, 10.41176471,  9.78431373,  9.51372549,\n",
       "        9.76862745, 10.34901961, 10.36078431, 10.18431373,  9.57647059,\n",
       "        8.90588235,  9.47843137,  8.93333333,  9.65098039,  9.41960784,\n",
       "        8.7372549 ,  9.57254902,  9.09411765,  9.65882353, 10.30588235,\n",
       "        9.23137255,  9.82352941,  9.81568627, 10.75294118,  9.86666667,\n",
       "       24.        , 24.        , 24.        , 24.        , 24.        ,\n",
       "       10.58823529, 11.76470588, 12.05490196, 11.19607843, 10.4627451 ,\n",
       "       11.32941176, 11.10196078, 10.29019608, 11.0627451 , 10.98823529,\n",
       "       10.87058824,  9.90980392,  7.97647059,  9.69411765, 10.28627451,\n",
       "        9.9372549 ,  9.44313725,  8.05490196,  9.83137255, 11.23137255,\n",
       "        9.76078431,  9.70588235,  9.58431373,  9.76470588, 10.31372549,\n",
       "       24.        , 24.        , 24.        , 24.        , 24.        ,\n",
       "        9.14901961, 10.83137255, 10.96470588, 10.76078431,  9.5254902 ,\n",
       "       10.58039216, 11.37647059, 10.32156863, 11.10588235,  9.83921569,\n",
       "       10.08235294, 10.51764706,  8.91764706, 10.5372549 ,  9.76862745,\n",
       "        9.17647059, 10.05882353,  8.77647059, 10.26666667, 10.57254902,\n",
       "        9.7254902 , 10.43137255, 10.05882353, 10.80784314, 10.11764706,\n",
       "       24.        , 24.        , 24.        , 24.        , 24.        ,\n",
       "        9.81176471, 11.34117647, 11.00392157, 10.74509804,  9.71372549,\n",
       "       10.4627451 , 10.40392157,  9.78039216, 10.18431373,  9.68627451,\n",
       "       10.11764706,  9.63529412,  7.54117647,  9.05882353,  9.60784314,\n",
       "        8.83137255,  8.91764706,  8.05882353,  8.95294118, 10.09411765,\n",
       "        9.14509804,  9.60392157,  9.93333333,  9.91764706,  9.83137255,\n",
       "       24.        , 24.        , 24.        , 24.        , 24.        ,\n",
       "       10.48235294, 11.63529412, 11.89411765, 11.97647059, 10.88627451,\n",
       "       10.90980392, 11.52941176, 11.12156863, 11.25098039, 10.3254902 ,\n",
       "       10.47058824, 10.10588235,  8.84313725,  9.30980392,  9.85882353,\n",
       "        9.37254902,  9.36470588,  8.05490196,  9.22745098, 10.56470588,\n",
       "        9.90196078, 10.34901961,  9.89411765, 10.50588235, 11.07058824,\n",
       "       24.        , 24.        , 24.        , 24.        , 24.        ])\n",
       "  message: 'Desired error not necessarily achieved due to precision loss.'\n",
       "     nfev: 47\n",
       "      nit: 0\n",
       "     njev: 36\n",
       "   status: 2\n",
       "  success: False\n",
       "        x: array([1.30479559e-01, 2.59023833e-01, 1.48305738e-01, 3.96879777e-01,\n",
       "       4.28112005e-01, 2.71085686e-02, 2.33221232e-01, 4.21404865e-01,\n",
       "       3.76288435e-01, 4.79372927e-01, 8.66666793e-01, 2.75866850e-01,\n",
       "       1.14935613e-02, 3.80913214e-01, 9.72000793e-01, 9.13582854e-01,\n",
       "       3.02343772e-01, 4.70011612e-02, 7.09987608e-01, 7.06531870e-01,\n",
       "       9.94044619e-01, 8.02058113e-01, 7.48096400e-01, 3.86321928e-01,\n",
       "       4.91326918e-01, 8.70032260e-01, 6.80828684e-01, 6.71443557e-01,\n",
       "       1.64404873e-01, 1.99180870e-01, 7.56550280e-02, 1.39473924e-01,\n",
       "       5.10027566e-01, 9.57586246e-01, 6.83383904e-01, 8.08050017e-01,\n",
       "       1.27592104e-01, 5.90660706e-01, 8.73882201e-01, 4.73349777e-01,\n",
       "       1.03832261e-01, 4.37087287e-01, 8.49607499e-01, 5.36001867e-02,\n",
       "       7.83993611e-01, 1.08929049e-01, 3.51201509e-01, 3.57237430e-01,\n",
       "       2.33453327e-01, 1.81481759e-01, 4.29097351e-01, 9.97238099e-01,\n",
       "       7.07429252e-01, 1.67236481e-01, 6.66062421e-01, 5.93535991e-01,\n",
       "       6.65079517e-01, 9.10045658e-01, 6.68250571e-01, 9.34639428e-01,\n",
       "       4.22066121e-02, 8.48711403e-01, 1.72685319e-01, 1.25220926e-01,\n",
       "       9.24811400e-01, 5.65011883e-01, 3.75487602e-01, 7.82807274e-01,\n",
       "       1.53967003e-01, 2.60992977e-01, 4.34275029e-01, 7.90786837e-01,\n",
       "       5.57902357e-01, 8.60798836e-01, 7.50619231e-01, 1.53486094e-01,\n",
       "       5.01328355e-01, 1.00818025e-01, 7.93513273e-01, 1.45730143e-01,\n",
       "       5.14060098e-04, 4.40780350e-02, 6.45207875e-01, 9.42674183e-01,\n",
       "       4.03915798e-01, 3.71080436e-01, 9.85503483e-01, 4.24602074e-01,\n",
       "       5.14735046e-01, 6.60722555e-02, 9.24297746e-01, 3.68820492e-01,\n",
       "       5.43125783e-01, 3.13148136e-01, 3.66003512e-01, 1.12157339e-01,\n",
       "       1.20063487e-01, 3.96792304e-01, 2.91583066e-01, 6.82795335e-05,\n",
       "       5.22751949e-01, 2.18943194e-01, 1.45708001e-01, 8.90401058e-02,\n",
       "       1.26542847e-01, 1.59075637e-01, 2.81693227e-01, 7.96448474e-01,\n",
       "       6.86014790e-01, 1.52749115e-01, 5.45713467e-01, 3.42291242e-01,\n",
       "       4.26507811e-01, 2.85023919e-01, 9.49099193e-01, 2.73743950e-01,\n",
       "       2.74014497e-01, 7.25327166e-01, 6.26000643e-01, 1.46992427e-01,\n",
       "       6.72251588e-01, 8.63133266e-01, 9.83134674e-01, 5.57309267e-02,\n",
       "       7.12093929e-01, 5.46062991e-01, 1.56359313e-01, 6.20129823e-01,\n",
       "       6.98360009e-01, 4.28498705e-01, 6.55242352e-01, 6.07450860e-01,\n",
       "       2.68733349e-01, 6.09228832e-01, 6.83952136e-01, 7.57337410e-01,\n",
       "       9.68743462e-01, 8.94210521e-01, 4.84882827e-01, 9.99895305e-01,\n",
       "       1.48802566e-02, 5.71937531e-01, 4.20382510e-01, 1.22140993e-01,\n",
       "       6.95207488e-02, 8.03487652e-01, 8.38334121e-01, 2.84046849e-01,\n",
       "       1.59216144e-01, 8.85625482e-01])"
      ]
     },
     "execution_count": 47,
     "metadata": {},
     "output_type": "execute_result"
    }
   ],
   "source": [
    "X_array"
   ]
  },
  {
   "cell_type": "code",
   "execution_count": null,
   "metadata": {},
   "outputs": [],
   "source": [
    "X_array.x.shape[0]/25"
   ]
  },
  {
   "cell_type": "code",
   "execution_count": null,
   "metadata": {},
   "outputs": [],
   "source": [
    "W_best = X_array.x[:No_of_Classes*(image_height*image_width + image_width)].reshape(No_of_Classes, image_height*image_width+image_width)\n",
    "\n"
   ]
  },
  {
   "cell_type": "code",
   "execution_count": null,
   "metadata": {
    "scrolled": true
   },
   "outputs": [],
   "source": [
    "W_best[0].shape"
   ]
  },
  {
   "cell_type": "code",
   "execution_count": null,
   "metadata": {},
   "outputs": [],
   "source": [
    "plt.imshow(W_best[1].reshape(image_width, image_height + 1))"
   ]
  },
  {
   "cell_type": "code",
   "execution_count": null,
   "metadata": {},
   "outputs": [],
   "source": [
    "y_pred = np.matmul(W_best,X_.T)"
   ]
  },
  {
   "cell_type": "code",
   "execution_count": null,
   "metadata": {},
   "outputs": [],
   "source": [
    "y_pred[:,10]"
   ]
  },
  {
   "cell_type": "code",
   "execution_count": null,
   "metadata": {},
   "outputs": [],
   "source": [
    "for i in range(y_pred.shape[1]):\n",
    "#     print(y_pred[:, i])\n",
    "    print(np.where(y_pred[:, i] == max(y_pred[:, i]))[0][0])"
   ]
  },
  {
   "cell_type": "code",
   "execution_count": null,
   "metadata": {},
   "outputs": [],
   "source": [
    "for y_p in y_pred:\n",
    "    print(y_p)\n",
    "    print(np.where(y_p == max(y_p))[0][0])"
   ]
  },
  {
   "cell_type": "code",
   "execution_count": null,
   "metadata": {},
   "outputs": [],
   "source": [
    "X[0].shape"
   ]
  },
  {
   "cell_type": "code",
   "execution_count": null,
   "metadata": {},
   "outputs": [],
   "source": [
    "np.matmul(W, X[0])"
   ]
  },
  {
   "cell_type": "code",
   "execution_count": null,
   "metadata": {},
   "outputs": [],
   "source": [
    "print(W.shape)\n",
    "B.shape"
   ]
  },
  {
   "cell_type": "code",
   "execution_count": null,
   "metadata": {},
   "outputs": [],
   "source": [
    "param.shape"
   ]
  },
  {
   "cell_type": "code",
   "execution_count": null,
   "metadata": {},
   "outputs": [],
   "source": []
  }
 ],
 "metadata": {
  "kernelspec": {
   "display_name": "YOLO",
   "language": "python",
   "name": "yolo"
  },
  "language_info": {
   "codemirror_mode": {
    "name": "ipython",
    "version": 3
   },
   "file_extension": ".py",
   "mimetype": "text/x-python",
   "name": "python",
   "nbconvert_exporter": "python",
   "pygments_lexer": "ipython3",
   "version": "3.7.1"
  }
 },
 "nbformat": 4,
 "nbformat_minor": 2
}
