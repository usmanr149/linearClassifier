{
 "cells": [
  {
   "cell_type": "code",
   "execution_count": 1,
   "metadata": {},
   "outputs": [
    {
     "data": {
      "text/plain": [
       "<Figure size 2880x2880 with 0 Axes>"
      ]
     },
     "execution_count": 1,
     "metadata": {},
     "output_type": "execute_result"
    },
    {
     "data": {
      "text/plain": [
       "<Figure size 2880x2880 with 0 Axes>"
      ]
     },
     "metadata": {},
     "output_type": "display_data"
    }
   ],
   "source": [
    "import cv2\n",
    "import os\n",
    "\n",
    "from matplotlib import pyplot as plt\n",
    "%matplotlib inline\n",
    "\n",
    "plt.figure(figsize=(40,40))"
   ]
  },
  {
   "cell_type": "code",
   "execution_count": 2,
   "metadata": {},
   "outputs": [],
   "source": [
    "import numpy as np"
   ]
  },
  {
   "cell_type": "code",
   "execution_count": null,
   "metadata": {},
   "outputs": [],
   "source": [
    "path = '../training/training/n0/n0018.jpg'"
   ]
  },
  {
   "cell_type": "code",
   "execution_count": null,
   "metadata": {},
   "outputs": [],
   "source": [
    "img = cv2.imread(path, 0)"
   ]
  },
  {
   "cell_type": "code",
   "execution_count": null,
   "metadata": {},
   "outputs": [],
   "source": [
    "plt.imshow(img)"
   ]
  },
  {
   "cell_type": "code",
   "execution_count": null,
   "metadata": {},
   "outputs": [],
   "source": [
    "img"
   ]
  },
  {
   "cell_type": "code",
   "execution_count": null,
   "metadata": {},
   "outputs": [],
   "source": [
    "img1 = img.flatten(order='C')/255"
   ]
  },
  {
   "cell_type": "code",
   "execution_count": null,
   "metadata": {},
   "outputs": [],
   "source": [
    "img1"
   ]
  },
  {
   "cell_type": "code",
   "execution_count": null,
   "metadata": {},
   "outputs": [],
   "source": [
    "# function f = WX + b"
   ]
  },
  {
   "cell_type": "code",
   "execution_count": null,
   "metadata": {},
   "outputs": [],
   "source": [
    "W = np.random.rand(100, 10)"
   ]
  },
  {
   "cell_type": "code",
   "execution_count": null,
   "metadata": {},
   "outputs": [],
   "source": [
    "def costFunction(y_true, y_pred):\n",
    "    # find the y_pred value for the actual image index\n",
    "    index = np.where(1)\n",
    "    cost = 0\n",
    "    for i in range(len(y_true)):\n",
    "        if i != index:\n",
    "            cost+= max(0, y_pred[i] - y_pred[index] + 1)\n",
    "    return cost\n",
    "\n",
    "def objective(params):\n",
    "    y_pred = np.matmul(params[0],X) + params[1]\n",
    "    \n",
    "#     print(y_pred)\n",
    "    loss = []\n",
    "\n",
    "    for y_t, y_p in zip(y_true, y_pred):\n",
    "        print(y_t, y_p)\n",
    "        loss.append(costFunction(y_t, y_p))\n",
    "    \n",
    "    return sum(loss)/len(loss)"
   ]
  },
  {
   "cell_type": "code",
   "execution_count": null,
   "metadata": {},
   "outputs": [],
   "source": [
    "W = np.random.rand(3, 4)\n",
    "B = np.random.rand(3, 3)\n",
    "\n",
    "X = np.random.rand(4, 3)\n",
    "classes = np.array([0,1,2])"
   ]
  },
  {
   "cell_type": "code",
   "execution_count": null,
   "metadata": {},
   "outputs": [],
   "source": [
    "np.matmul(W,X) + B"
   ]
  },
  {
   "cell_type": "code",
   "execution_count": null,
   "metadata": {},
   "outputs": [],
   "source": [
    "y_true = np.zeros((classes.size, classes.max()+1))\n",
    "y_true[np.arange(classes.size), classes] = 1"
   ]
  },
  {
   "cell_type": "code",
   "execution_count": null,
   "metadata": {},
   "outputs": [],
   "source": [
    "y_true"
   ]
  },
  {
   "cell_type": "code",
   "execution_count": null,
   "metadata": {},
   "outputs": [],
   "source": [
    "objective(params=[W,B])"
   ]
  },
  {
   "cell_type": "code",
   "execution_count": null,
   "metadata": {},
   "outputs": [],
   "source": [
    "y_true = [1,0,0]\n",
    "y_pred = [3.2, 5.1, -1.7]\n",
    "\n",
    "y_true = [0,1,0]\n",
    "y_pred = [1.3, 4.9, 2.0]\n",
    "\n",
    "y_true = [0,0,1]\n",
    "y_pred = [2.2, 2.5, -3.1]\n",
    "\n",
    "costFunction(y_true, y_pred)"
   ]
  },
  {
   "cell_type": "code",
   "execution_count": null,
   "metadata": {},
   "outputs": [],
   "source": [
    "y_true = [[1,0,0], [0,1,0], [0,0,1]]\n",
    "y_pred = [[3.2, 5.1, -1.7], [1.3, 4.9, 2.0], [2.2, 2.5, -3.1]]\n",
    "\n",
    "loss = []\n",
    "\n",
    "for y_t, y_p in zip(y_true, y_pred):\n",
    "    loss.append(costFunction(y_t, y_p))\n",
    "\n",
    "sum(loss)/len(loss)"
   ]
  },
  {
   "cell_type": "code",
   "execution_count": 35,
   "metadata": {},
   "outputs": [],
   "source": [
    "from scipy.optimize import minimize"
   ]
  },
  {
   "cell_type": "code",
   "execution_count": null,
   "metadata": {},
   "outputs": [],
   "source": [
    "initial_guess = [W,B]\n",
    "\n",
    "minimize(objective, initial_guess)"
   ]
  },
  {
   "cell_type": "code",
   "execution_count": null,
   "metadata": {},
   "outputs": [],
   "source": [
    "image_height = 6\n",
    "image_width = 8\n",
    "\n",
    "No_of_Images = 10\n",
    "No_of_Classes = 3\n",
    "\n",
    "classes = np.random.randint(No_of_Classes, size=No_of_Images)\n",
    "y_true = np.zeros((classes.size, classes.max()+1))\n",
    "y_true[np.arange(classes.size), classes] = 1\n",
    "\n",
    "def costFunction(y_true, y_pred):\n",
    "    # find the y_pred value for the actual image index\n",
    "    index = np.where(1)\n",
    "    cost = 0\n",
    "    for i in range(len(y_true)):\n",
    "        if i != index:\n",
    "            cost+= max(0, y_pred[i] - y_pred[index] + 1)\n",
    "    return cost\n",
    "\n",
    "def objective(params):\n",
    "    \n",
    "    W = params[:No_of_Classes*image_height*image_width].reshape(No_of_Classes, image_height*image_width)\n",
    "    B = params[No_of_Classes*image_height*image_width:].reshape(No_of_Classes, No_of_Images)\n",
    "    y_pred = np.matmul(W,X) + B\n",
    "    \n",
    "#     print(y_pred)\n",
    "    loss = []\n",
    "#     return y_pred\n",
    "\n",
    "    for y_t, y_p in zip(y_true, y_pred.T):\n",
    "#         print(y_t, y_p)\n",
    "        loss.append(costFunction(y_t, y_p))\n",
    "    \n",
    "    return sum(loss)/len(loss)\n",
    "\n",
    "    "
   ]
  },
  {
   "cell_type": "code",
   "execution_count": null,
   "metadata": {},
   "outputs": [],
   "source": [
    "classes"
   ]
  },
  {
   "cell_type": "code",
   "execution_count": null,
   "metadata": {},
   "outputs": [],
   "source": [
    "X = np.random.rand(image_height*image_width, No_of_Images)"
   ]
  },
  {
   "cell_type": "code",
   "execution_count": null,
   "metadata": {},
   "outputs": [],
   "source": [
    "W = np.random.rand(No_of_Classes, image_height*image_width)\n",
    "B = np.random.rand(No_of_Classes, No_of_Images)"
   ]
  },
  {
   "cell_type": "code",
   "execution_count": null,
   "metadata": {},
   "outputs": [],
   "source": [
    "print('X matrix shape: ', X.shape)\n",
    "print('Wight matrix shape: ', W.shape)\n",
    "print('Bias matrix shape: ', B.shape)"
   ]
  },
  {
   "cell_type": "code",
   "execution_count": null,
   "metadata": {},
   "outputs": [],
   "source": [
    "param = np.append(W.ravel(), B.ravel())\n",
    "X_array = minimize(objective, param)"
   ]
  },
  {
   "cell_type": "code",
   "execution_count": null,
   "metadata": {},
   "outputs": [],
   "source": [
    "W_best = X_array.x[:No_of_Classes*image_height*image_width].reshape(No_of_Classes, image_height*image_width)\n",
    "B_best = X_array.x[No_of_Classes*image_height*image_width:].reshape(No_of_Classes, No_of_Images)"
   ]
  },
  {
   "cell_type": "code",
   "execution_count": null,
   "metadata": {},
   "outputs": [],
   "source": [
    "preds = np.matmul(W_best, X) + B_best"
   ]
  },
  {
   "cell_type": "code",
   "execution_count": null,
   "metadata": {},
   "outputs": [],
   "source": [
    "preds.T[6]"
   ]
  },
  {
   "cell_type": "code",
   "execution_count": null,
   "metadata": {},
   "outputs": [],
   "source": [
    "classes"
   ]
  },
  {
   "cell_type": "code",
   "execution_count": 15,
   "metadata": {},
   "outputs": [],
   "source": [
    "images = []\n",
    "labels = []\n",
    "count = 0\n",
    "for root, dirs, files in os.walk(\"../training/training/n0\", topdown=False):\n",
    "    for name in files:\n",
    "#         print(os.path.join(root, name))\n",
    "        images.append(os.path.join(root, name))\n",
    "        labels.append(0)\n",
    "#     for name in dirs:\n",
    "#         print(os.path.join(root, name))\n",
    "        count += 1\n",
    "        if count > 60:\n",
    "            break"
   ]
  },
  {
   "cell_type": "code",
   "execution_count": 16,
   "metadata": {
    "scrolled": true
   },
   "outputs": [],
   "source": [
    "count = 0\n",
    "for root, dirs, files in os.walk(\"../training/training/n1\", topdown=False):\n",
    "    for name in files:\n",
    "#         print(os.path.join(root, name))\n",
    "        images.append(os.path.join(root, name))\n",
    "        labels.append(1)\n",
    "        count += 1\n",
    "        if count > 60:\n",
    "            break"
   ]
  },
  {
   "cell_type": "code",
   "execution_count": 17,
   "metadata": {
    "scrolled": true
   },
   "outputs": [],
   "source": [
    "count = 0\n",
    "for root, dirs, files in os.walk(\"../training/training/n2\", topdown=False):\n",
    "    for name in files:\n",
    "#         print(os.path.join(root, name))\n",
    "        images.append(os.path.join(root, name))\n",
    "        labels.append(2)\n",
    "        count += 1\n",
    "        if count > 60:\n",
    "            break"
   ]
  },
  {
   "cell_type": "code",
   "execution_count": 3,
   "metadata": {},
   "outputs": [],
   "source": [
    "def readImage(path, width=56, height=60):\n",
    "    # Using cv2.imread() method\n",
    "    # Using 0 to read image in grayscale mode\n",
    "    img = cv2.imread(path, 0)\n",
    "    dim = (width, height)\n",
    "    # resize image\n",
    "    resized = cv2.resize(img, dim, interpolation=cv2.INTER_AREA)\n",
    "\n",
    "    return resized"
   ]
  },
  {
   "cell_type": "code",
   "execution_count": null,
   "metadata": {},
   "outputs": [],
   "source": [
    "len(images)"
   ]
  },
  {
   "cell_type": "code",
   "execution_count": 18,
   "metadata": {},
   "outputs": [],
   "source": [
    "files = images"
   ]
  },
  {
   "cell_type": "code",
   "execution_count": null,
   "metadata": {},
   "outputs": [],
   "source": [
    "zig = np.array([0,0,1])\n",
    "max(zig)\n",
    "inbdex = np.where(zig == max(zig))\n",
    "\n",
    "zig[inbdex]"
   ]
  },
  {
   "cell_type": "code",
   "execution_count": 43,
   "metadata": {},
   "outputs": [],
   "source": [
    "image_height, image_width = 60, 60\n",
    "\n",
    "No_of_Images = len(labels)\n",
    "No_of_Classes = len(set(labels))\n",
    "\n",
    "# classes = np.random.randint(No_of_Classes, size=No_of_Images)\n",
    "classes = np.array(labels)\n",
    "y_true = np.zeros((classes.size, classes.max()+1))\n",
    "y_true[np.arange(classes.size), classes] = 1\n",
    "\n",
    "def objective(params):\n",
    "    \n",
    "    W = params[:No_of_Classes*image_height*image_width].reshape(No_of_Classes, image_height*image_width)\n",
    "    B = params[No_of_Classes*image_height*image_width:].reshape(No_of_Classes, No_of_Images)\n",
    "    y_pred = np.matmul(W,X) + B\n",
    "    \n",
    "    indices = np.where(y_true == np.amax(y_true))\n",
    "    new = y_true - y_pred.T\n",
    "    new[indices] = 0\n",
    "    return sum(sum(new))#/len(new)\n",
    "\n",
    "# def objective(params):\n",
    "    \n",
    "#     W = params[:No_of_Classes*image_height*image_width].reshape(No_of_Classes, image_height*image_width)\n",
    "#     B = params[No_of_Classes*image_height*image_width:].reshape(No_of_Classes, No_of_Images)\n",
    "#     y_pred = np.matmul(W,X) + B\n",
    "    \n",
    "# #     print(y_pred)\n",
    "#     loss = []\n",
    "# #     return y_pred\n",
    "\n",
    "#     for y_t, y_p in zip(y_true, y_pred.T):\n",
    "# #         print(y_t, y_p)\n",
    "#         loss.append(costFunction(y_t, y_p))\n",
    "    \n",
    "#     return sum(loss)"
   ]
  },
  {
   "cell_type": "code",
   "execution_count": 44,
   "metadata": {},
   "outputs": [],
   "source": [
    "img = readImage(files[0], )"
   ]
  },
  {
   "cell_type": "code",
   "execution_count": 45,
   "metadata": {},
   "outputs": [
    {
     "data": {
      "text/plain": [
       "array([0, 0, 0, 0, 0, 0, 0, 0, 0, 0, 0, 0, 0, 0, 0, 0, 0, 0, 0, 0, 0, 0,\n",
       "       0, 0, 0, 0, 0, 0, 0, 0, 0, 0, 0, 0, 0, 0, 0, 0, 0, 0, 0, 0, 0, 0,\n",
       "       0, 0, 0, 0, 0, 0, 0, 0, 0, 0, 0, 0, 0, 0, 0, 0, 0, 1, 1, 1, 1, 1,\n",
       "       1, 1, 1, 1, 1, 1, 1, 1, 1, 1, 1, 1, 1, 1, 1, 1, 1, 1, 1, 1, 1, 1,\n",
       "       1, 1, 1, 1, 1, 1, 1, 1, 1, 1, 1, 1, 1, 1, 1, 1, 1, 1, 1, 1, 1, 1,\n",
       "       1, 1, 1, 1, 1, 1, 1, 1, 1, 1, 1, 1, 2, 2, 2, 2, 2, 2, 2, 2, 2, 2,\n",
       "       2, 2, 2, 2, 2, 2, 2, 2, 2, 2, 2, 2, 2, 2, 2, 2, 2, 2, 2, 2, 2, 2,\n",
       "       2, 2, 2, 2, 2, 2, 2, 2, 2, 2, 2, 2, 2, 2, 2, 2, 2, 2, 2, 2, 2, 2,\n",
       "       2, 2, 2, 2, 2, 2, 2])"
      ]
     },
     "execution_count": 45,
     "metadata": {},
     "output_type": "execute_result"
    }
   ],
   "source": [
    "result = np.where(y_true == np.amax(y_true))\n",
    "\n",
    "result[1]"
   ]
  },
  {
   "cell_type": "code",
   "execution_count": 46,
   "metadata": {},
   "outputs": [],
   "source": [
    "y_pred = np.matmul(W,X) + B"
   ]
  },
  {
   "cell_type": "code",
   "execution_count": null,
   "metadata": {},
   "outputs": [],
   "source": [
    "new = y_true - y_pred.T\n",
    "new[result] = 0\n",
    "\n",
    "sum(sum(new))"
   ]
  },
  {
   "cell_type": "code",
   "execution_count": 21,
   "metadata": {},
   "outputs": [],
   "source": [
    "W = np.random.rand(No_of_Classes, image_height*image_width)\n",
    "B = np.random.rand(No_of_Classes, No_of_Images)"
   ]
  },
  {
   "cell_type": "code",
   "execution_count": 22,
   "metadata": {},
   "outputs": [],
   "source": [
    "X = []\n",
    "\n",
    "for i in files:\n",
    "    X.append(readImage(i, width = image_width, height=image_height).ravel())"
   ]
  },
  {
   "cell_type": "code",
   "execution_count": 24,
   "metadata": {},
   "outputs": [
    {
     "data": {
      "text/plain": [
       "<matplotlib.image.AxesImage at 0x12c112860>"
      ]
     },
     "execution_count": 24,
     "metadata": {},
     "output_type": "execute_result"
    },
    {
     "data": {
      "image/png": "[encoded data removed]",
      "text/plain": [
       "<Figure size 432x288 with 1 Axes>"
      ]
     },
     "metadata": {
      "needs_background": "light"
     },
     "output_type": "display_data"
    }
   ],
   "source": [
    "plt.imshow(X[2].reshape(image_width, image_height))"
   ]
  },
  {
   "cell_type": "code",
   "execution_count": 25,
   "metadata": {},
   "outputs": [
    {
     "data": {
      "text/plain": [
       "183"
      ]
     },
     "execution_count": 25,
     "metadata": {},
     "output_type": "execute_result"
    }
   ],
   "source": [
    "len(X)"
   ]
  },
  {
   "cell_type": "code",
   "execution_count": 26,
   "metadata": {},
   "outputs": [],
   "source": [
    "X = np.array(X)"
   ]
  },
  {
   "cell_type": "code",
   "execution_count": 27,
   "metadata": {},
   "outputs": [],
   "source": [
    "X = X.T"
   ]
  },
  {
   "cell_type": "code",
   "execution_count": 28,
   "metadata": {},
   "outputs": [
    {
     "data": {
      "text/plain": [
       "(2025, 183)"
      ]
     },
     "execution_count": 28,
     "metadata": {},
     "output_type": "execute_result"
    }
   ],
   "source": [
    "X.shape"
   ]
  },
  {
   "cell_type": "code",
   "execution_count": 29,
   "metadata": {},
   "outputs": [
    {
     "data": {
      "text/plain": [
       "(3, 2025)"
      ]
     },
     "execution_count": 29,
     "metadata": {},
     "output_type": "execute_result"
    }
   ],
   "source": [
    "W.shape"
   ]
  },
  {
   "cell_type": "code",
   "execution_count": 30,
   "metadata": {},
   "outputs": [
    {
     "data": {
      "text/plain": [
       "(3, 183)"
      ]
     },
     "execution_count": 30,
     "metadata": {},
     "output_type": "execute_result"
    }
   ],
   "source": [
    "B.shape"
   ]
  },
  {
   "cell_type": "code",
   "execution_count": 33,
   "metadata": {},
   "outputs": [
    {
     "data": {
      "text/plain": [
       "-40704567.70422293"
      ]
     },
     "execution_count": 33,
     "metadata": {},
     "output_type": "execute_result"
    }
   ],
   "source": [
    "param = np.append(W.ravel(), B.ravel())\n",
    "objective(param)"
   ]
  },
  {
   "cell_type": "code",
   "execution_count": 36,
   "metadata": {},
   "outputs": [
    {
     "name": "stdout",
     "output_type": "stream",
     "text": [
      "Optimization terminated successfully.\n",
      "         Current function value: -5138671714602.300781\n",
      "         Iterations: 2\n",
      "         Function evaluations: 86138\n",
      "         Gradient evaluations: 13\n"
     ]
    }
   ],
   "source": [
    "param = np.append(W.ravel(), B.ravel())\n",
    "X_array = minimize(objective, param, options={'disp': True})"
   ]
  },
  {
   "cell_type": "code",
   "execution_count": 37,
   "metadata": {},
   "outputs": [],
   "source": [
    "W_best = X_array.x[:No_of_Classes*image_height*image_width].reshape(No_of_Classes, image_height*image_width)\n",
    "B_best = X_array.x[No_of_Classes*image_height*image_width:].reshape(No_of_Classes, No_of_Images)"
   ]
  },
  {
   "cell_type": "code",
   "execution_count": 38,
   "metadata": {},
   "outputs": [
    {
     "data": {
      "text/plain": [
       "<matplotlib.image.AxesImage at 0x12e5c1518>"
      ]
     },
     "execution_count": 38,
     "metadata": {},
     "output_type": "execute_result"
    },
    {
     "data": {
      "image/png": "[encoded data removed]",
      "text/plain": [
       "<Figure size 432x288 with 1 Axes>"
      ]
     },
     "metadata": {
      "needs_background": "light"
     },
     "output_type": "display_data"
    }
   ],
   "source": [
    "plt.imshow(W_best[0].reshape(image_height, image_width))"
   ]
  },
  {
   "cell_type": "code",
   "execution_count": 40,
   "metadata": {},
   "outputs": [
    {
     "data": {
      "text/plain": [
       "<matplotlib.image.AxesImage at 0x12c0120b8>"
      ]
     },
     "execution_count": 40,
     "metadata": {},
     "output_type": "execute_result"
    },
    {
     "data": {
      "image/png": "[encoded data removed]",
      "text/plain": [
       "<Figure size 432x288 with 1 Axes>"
      ]
     },
     "metadata": {
      "needs_background": "light"
     },
     "output_type": "display_data"
    }
   ],
   "source": [
    "plt.imshow(W_best[1].reshape(image_height, image_width))"
   ]
  },
  {
   "cell_type": "code",
   "execution_count": 41,
   "metadata": {},
   "outputs": [],
   "source": [
    "preds = np.matmul(W_best, X) + B_best\n",
    "preds = preds.T"
   ]
  },
  {
   "cell_type": "code",
   "execution_count": 42,
   "metadata": {},
   "outputs": [
    {
     "name": "stdout",
     "output_type": "stream",
     "text": [
      "(array([0]),)\n",
      "(array([0]),)\n",
      "(array([0]),)\n",
      "(array([0]),)\n",
      "(array([0]),)\n",
      "(array([0]),)\n",
      "(array([0]),)\n",
      "(array([0]),)\n",
      "(array([0]),)\n",
      "(array([0]),)\n",
      "(array([0]),)\n",
      "(array([0]),)\n",
      "(array([0]),)\n",
      "(array([0]),)\n",
      "(array([0]),)\n",
      "(array([0]),)\n",
      "(array([0]),)\n",
      "(array([0]),)\n",
      "(array([0]),)\n",
      "(array([0]),)\n",
      "(array([0]),)\n",
      "(array([0]),)\n",
      "(array([0]),)\n",
      "(array([0]),)\n",
      "(array([0]),)\n",
      "(array([0]),)\n",
      "(array([0]),)\n",
      "(array([0]),)\n",
      "(array([0]),)\n",
      "(array([0]),)\n",
      "(array([0]),)\n",
      "(array([0]),)\n",
      "(array([0]),)\n",
      "(array([0]),)\n",
      "(array([0]),)\n",
      "(array([0]),)\n",
      "(array([0]),)\n",
      "(array([0]),)\n",
      "(array([0]),)\n",
      "(array([0]),)\n",
      "(array([0]),)\n",
      "(array([0]),)\n",
      "(array([0]),)\n",
      "(array([0]),)\n",
      "(array([0]),)\n",
      "(array([0]),)\n",
      "(array([0]),)\n",
      "(array([0]),)\n",
      "(array([0]),)\n",
      "(array([0]),)\n",
      "(array([0]),)\n",
      "(array([0]),)\n",
      "(array([0]),)\n",
      "(array([0]),)\n",
      "(array([0]),)\n",
      "(array([0]),)\n",
      "(array([0]),)\n",
      "(array([0]),)\n",
      "(array([0]),)\n",
      "(array([0]),)\n",
      "(array([0]),)\n",
      "(array([0]),)\n",
      "(array([0]),)\n",
      "(array([0]),)\n",
      "(array([0]),)\n",
      "(array([0]),)\n",
      "(array([0]),)\n",
      "(array([0]),)\n",
      "(array([0]),)\n",
      "(array([0]),)\n",
      "(array([0]),)\n",
      "(array([0]),)\n",
      "(array([0]),)\n",
      "(array([0]),)\n",
      "(array([0]),)\n",
      "(array([0]),)\n",
      "(array([0]),)\n",
      "(array([0]),)\n",
      "(array([0]),)\n",
      "(array([0]),)\n",
      "(array([0]),)\n",
      "(array([0]),)\n",
      "(array([0]),)\n",
      "(array([0]),)\n",
      "(array([0]),)\n",
      "(array([0]),)\n",
      "(array([0]),)\n",
      "(array([0]),)\n",
      "(array([0]),)\n",
      "(array([0]),)\n",
      "(array([0]),)\n",
      "(array([0]),)\n",
      "(array([0]),)\n",
      "(array([0]),)\n",
      "(array([0]),)\n",
      "(array([0]),)\n",
      "(array([0]),)\n",
      "(array([0]),)\n",
      "(array([0]),)\n",
      "(array([0]),)\n",
      "(array([0]),)\n",
      "(array([0]),)\n",
      "(array([0]),)\n",
      "(array([0]),)\n",
      "(array([0]),)\n",
      "(array([0]),)\n",
      "(array([0]),)\n",
      "(array([0]),)\n",
      "(array([0]),)\n",
      "(array([0]),)\n",
      "(array([0]),)\n",
      "(array([0]),)\n",
      "(array([0]),)\n",
      "(array([0]),)\n",
      "(array([0]),)\n",
      "(array([0]),)\n",
      "(array([0]),)\n",
      "(array([0]),)\n",
      "(array([0]),)\n",
      "(array([0]),)\n",
      "(array([0]),)\n",
      "(array([0]),)\n",
      "(array([0]),)\n",
      "(array([0]),)\n",
      "(array([0]),)\n",
      "(array([0]),)\n",
      "(array([0]),)\n",
      "(array([0]),)\n",
      "(array([0]),)\n",
      "(array([0]),)\n",
      "(array([0]),)\n",
      "(array([0]),)\n",
      "(array([0]),)\n",
      "(array([0]),)\n",
      "(array([0]),)\n",
      "(array([0]),)\n",
      "(array([0]),)\n",
      "(array([0]),)\n",
      "(array([0]),)\n",
      "(array([0]),)\n",
      "(array([0]),)\n",
      "(array([0]),)\n",
      "(array([0]),)\n",
      "(array([0]),)\n",
      "(array([0]),)\n",
      "(array([0]),)\n",
      "(array([0]),)\n",
      "(array([0]),)\n",
      "(array([0]),)\n",
      "(array([0]),)\n",
      "(array([0]),)\n",
      "(array([0]),)\n",
      "(array([0]),)\n",
      "(array([0]),)\n",
      "(array([0]),)\n",
      "(array([0]),)\n",
      "(array([0]),)\n",
      "(array([0]),)\n",
      "(array([0]),)\n",
      "(array([0]),)\n",
      "(array([0]),)\n",
      "(array([0]),)\n",
      "(array([0]),)\n",
      "(array([0]),)\n",
      "(array([0]),)\n",
      "(array([0]),)\n",
      "(array([0]),)\n",
      "(array([0]),)\n",
      "(array([0]),)\n",
      "(array([0]),)\n",
      "(array([0]),)\n",
      "(array([0]),)\n",
      "(array([0]),)\n",
      "(array([0]),)\n",
      "(array([0]),)\n",
      "(array([0]),)\n",
      "(array([0]),)\n",
      "(array([0]),)\n",
      "(array([0]),)\n",
      "(array([0]),)\n",
      "(array([0]),)\n",
      "(array([0]),)\n",
      "(array([0]),)\n"
     ]
    }
   ],
   "source": [
    "for p in preds:\n",
    "    print(np.where(max(p)))"
   ]
  },
  {
   "cell_type": "code",
   "execution_count": null,
   "metadata": {},
   "outputs": [],
   "source": [
    "param_best = np.append(W_best.ravel(), B_best.ravel())\n",
    "objective(param_best)"
   ]
  },
  {
   "cell_type": "code",
   "execution_count": null,
   "metadata": {},
   "outputs": [],
   "source": [
    "W = np.array([[0.2, -0.5, 0.1, 2.0], \n",
    "             [1.5, 1.3, 2.1, 0.0],\n",
    "              [0, 0.25, 0.2, -0.3]\n",
    "             ])\n",
    "X = np.array([\n",
    "    [56],\n",
    "    [231],\n",
    "    [24],\n",
    "    [2]\n",
    "])\n",
    "\n",
    "B = np.array([\n",
    "    [1.1], \n",
    "    [3.2],\n",
    "    [-1.2]\n",
    "])\n",
    "\n",
    "image_height, image_width = 4, 1\n",
    "\n",
    "No_of_Images = 1\n",
    "No_of_Classes = 3\n",
    "\n",
    "# classes = np.random.randint(No_of_Classes, size=No_of_Images)\n",
    "classes = np.array(2)\n",
    "y_true = np.zeros((classes.size, classes.max()+1))\n",
    "y_true[np.arange(classes.size), classes] = 1\n",
    "y_true = y_true[0]\n",
    "\n",
    "def objective(params):\n",
    "    \n",
    "    W = params[:No_of_Classes*image_height*image_width].reshape(No_of_Classes, image_height*image_width)\n",
    "    B = params[No_of_Classes*image_height*image_width:].reshape(No_of_Classes, No_of_Images)\n",
    "    y_pred = np.matmul(W,X) + B\n",
    "    \n",
    "    index = np.where(y_true == max(y_true))\n",
    "    new = (y_true - y_pred.T)\n",
    "    new[0][index] = 0\n",
    "    return np.sum(new)#/len(new)\n",
    "\n",
    "param = np.append(W.ravel(), B.ravel())\n",
    "objective(param)"
   ]
  },
  {
   "cell_type": "code",
   "execution_count": null,
   "metadata": {},
   "outputs": [],
   "source": [
    "classes = np.array(0)\n",
    "y_true = np.zeros((classes.size, classes.max()+1))\n",
    "y_true[np.arange(classes.size), classes] = 1"
   ]
  },
  {
   "cell_type": "code",
   "execution_count": null,
   "metadata": {},
   "outputs": [],
   "source": [
    "new = np.array([[  96.8, -437.9, -59.75]])"
   ]
  },
  {
   "cell_type": "code",
   "execution_count": null,
   "metadata": {},
   "outputs": [],
   "source": [
    "new[0][2]"
   ]
  },
  {
   "cell_type": "code",
   "execution_count": null,
   "metadata": {},
   "outputs": [],
   "source": [
    "np.where(y_true == max(y_true))"
   ]
  },
  {
   "cell_type": "code",
   "execution_count": null,
   "metadata": {},
   "outputs": [],
   "source": [
    "max(y_true[0])"
   ]
  },
  {
   "cell_type": "code",
   "execution_count": 146,
   "metadata": {},
   "outputs": [],
   "source": [
    "W = np.array([\n",
    "    [0.2, -0.5, 0.1, 2.0, 1.1], \n",
    "    [1.5, 1.3, 2.1, 0.0, 3.2], \n",
    "    [0, 0.25, 0.2, -0.3, -1.2]\n",
    "])\n",
    "\n",
    "# x = np.array([\n",
    "#     [56], [32],\n",
    "#     [231], [98],\n",
    "#     [24], [84],\n",
    "#     [2],[126],\n",
    "#     [1], [1]\n",
    "# ])\n",
    "\n",
    "x = np.array([\n",
    "    [56, 32],\n",
    "    [231, 98],\n",
    "    [24, 84],\n",
    "    [2, 126],\n",
    "    [1, 1]\n",
    "])\n",
    "\n",
    "y_pred = np.matmul(W,x)"
   ]
  },
  {
   "cell_type": "code",
   "execution_count": 193,
   "metadata": {},
   "outputs": [
    {
     "data": {
      "text/plain": [
       "(3, 2)"
      ]
     },
     "execution_count": 193,
     "metadata": {},
     "output_type": "execute_result"
    }
   ],
   "source": [
    "y_pred.shape"
   ]
  },
  {
   "cell_type": "code",
   "execution_count": 147,
   "metadata": {},
   "outputs": [
    {
     "data": {
      "text/plain": [
       "array([[-96.8 , 218.9 ],\n",
       "       [437.9 , 355.  ],\n",
       "       [ 60.75,   2.3 ]])"
      ]
     },
     "execution_count": 147,
     "metadata": {},
     "output_type": "execute_result"
    }
   ],
   "source": [
    "y_pred"
   ]
  },
  {
   "cell_type": "code",
   "execution_count": 154,
   "metadata": {},
   "outputs": [
    {
     "ename": "TypeError",
     "evalue": "object of type 'numpy.float64' has no len()",
     "output_type": "error",
     "traceback": [
      "\u001b[0;31m---------------------------------------------------------------------------\u001b[0m",
      "\u001b[0;31mTypeError\u001b[0m                                 Traceback (most recent call last)",
      "\u001b[0;32m<ipython-input-154-8746926c9ec5>\u001b[0m in \u001b[0;36m<module>\u001b[0;34m\u001b[0m\n\u001b[1;32m      4\u001b[0m \u001b[0;32mfor\u001b[0m \u001b[0mi\u001b[0m \u001b[0;32min\u001b[0m \u001b[0mrange\u001b[0m\u001b[0;34m(\u001b[0m\u001b[0mNo_of_images\u001b[0m\u001b[0;34m)\u001b[0m\u001b[0;34m:\u001b[0m\u001b[0;34m\u001b[0m\u001b[0;34m\u001b[0m\u001b[0m\n\u001b[1;32m      5\u001b[0m     \u001b[0;32mfor\u001b[0m \u001b[0my_p\u001b[0m \u001b[0;32min\u001b[0m \u001b[0my_pred\u001b[0m\u001b[0;34m[\u001b[0m\u001b[0;34m:\u001b[0m\u001b[0;34m,\u001b[0m\u001b[0mi\u001b[0m\u001b[0;34m]\u001b[0m\u001b[0;34m:\u001b[0m\u001b[0;34m\u001b[0m\u001b[0;34m\u001b[0m\u001b[0m\n\u001b[0;32m----> 6\u001b[0;31m         \u001b[0;32mfor\u001b[0m \u001b[0mj\u001b[0m \u001b[0;32min\u001b[0m \u001b[0mrange\u001b[0m\u001b[0;34m(\u001b[0m\u001b[0mlen\u001b[0m\u001b[0;34m(\u001b[0m\u001b[0my_p\u001b[0m\u001b[0;34m)\u001b[0m\u001b[0;34m)\u001b[0m\u001b[0;34m:\u001b[0m\u001b[0;34m\u001b[0m\u001b[0;34m\u001b[0m\u001b[0m\n\u001b[0m\u001b[1;32m      7\u001b[0m             \u001b[0;32mif\u001b[0m \u001b[0my_p\u001b[0m\u001b[0;34m[\u001b[0m\u001b[0mi\u001b[0m\u001b[0;34m]\u001b[0m\u001b[0;34m[\u001b[0m\u001b[0mj\u001b[0m\u001b[0;34m]\u001b[0m \u001b[0;34m-\u001b[0m \u001b[0my_pred\u001b[0m\u001b[0;34m[\u001b[0m\u001b[0mi\u001b[0m\u001b[0;34m]\u001b[0m\u001b[0;34m[\u001b[0m\u001b[0my_j\u001b[0m\u001b[0;34m]\u001b[0m \u001b[0;34m>\u001b[0m \u001b[0;36m1\u001b[0m\u001b[0;34m:\u001b[0m\u001b[0;34m\u001b[0m\u001b[0;34m\u001b[0m\u001b[0m\n\u001b[1;32m      8\u001b[0m                 \u001b[0;32mif\u001b[0m \u001b[0mi\u001b[0m \u001b[0;34m==\u001b[0m \u001b[0my_j\u001b[0m\u001b[0;34m:\u001b[0m\u001b[0;34m\u001b[0m\u001b[0;34m\u001b[0m\u001b[0m\n",
      "\u001b[0;31mTypeError\u001b[0m: object of type 'numpy.float64' has no len()"
     ]
    }
   ],
   "source": [
    "der_W = np.zeros(3*5).reshape(3, 5)\n",
    "No_of_images = 2\n",
    "\n",
    "for i in range(No_of_images):\n",
    "    for y_p in y_pred[:,i]:\n",
    "        for j in range(len(y_p)):\n",
    "            if y_p[i][j] - y_pred[i][y_j] > 1:\n",
    "                if i == y_j:\n",
    "                    der_W[i][j] -= x[j][0]\n",
    "                else:\n",
    "                    der_W[i][j] += x[j][0]\n",
    "                    \n",
    "der_W"
   ]
  },
  {
   "cell_type": "code",
   "execution_count": 167,
   "metadata": {},
   "outputs": [
    {
     "data": {
      "text/plain": [
       "array([60.75,  2.3 ])"
      ]
     },
     "execution_count": 167,
     "metadata": {},
     "output_type": "execute_result"
    }
   ],
   "source": [
    "y_pred[2]"
   ]
  },
  {
   "cell_type": "code",
   "execution_count": 168,
   "metadata": {},
   "outputs": [
    {
     "data": {
      "text/plain": [
       "array([218.9, 355. ,   2.3])"
      ]
     },
     "execution_count": 168,
     "metadata": {},
     "output_type": "execute_result"
    }
   ],
   "source": [
    "y_pred[:,1]"
   ]
  },
  {
   "cell_type": "code",
   "execution_count": 172,
   "metadata": {},
   "outputs": [
    {
     "data": {
      "text/plain": [
       "1265.55"
      ]
     },
     "execution_count": 172,
     "metadata": {},
     "output_type": "execute_result"
    }
   ],
   "source": [
    "loss = 0\n",
    "y_true = [0, 2]\n",
    "\n",
    "for i in range(len(y_true)):\n",
    "    for j in range(len(y_pred[:,i])):\n",
    "        if j != y_true[i]:\n",
    "            loss+=max(0, y_pred[:,i][j] - y_pred[:,i][y_true[i]] + 1)\n",
    "            \n",
    "loss"
   ]
  },
  {
   "cell_type": "code",
   "execution_count": 188,
   "metadata": {},
   "outputs": [],
   "source": [
    "# der_w dimension is No_of_Classes*(img_height*image_width + image_width)\n",
    "\n",
    "der_W = np.zeros(3*5).reshape(3, 5)\n",
    "# for i in range(len(y_pred)):\n",
    "for i in range(len(y_true)):\n",
    "    for j in range(len(y_pred[:,i])):\n",
    "        for k in range(5):\n",
    "            if y_pred[:,i][j] - y_pred[:,i][y_true[i]] > 1:\n",
    "                if j == y_true[i]:\n",
    "                    der_W[j][k] -= x[k][i]\n",
    "                else:\n",
    "                    der_W[j][k] += x[k][i]"
   ]
  },
  {
   "cell_type": "code",
   "execution_count": 190,
   "metadata": {},
   "outputs": [
    {
     "data": {
      "text/plain": [
       "array([[ 32.,  98.,  84., 126.,   1.],\n",
       "       [ 88., 329., 108., 128.,   2.],\n",
       "       [ 56., 231.,  24.,   2.,   1.]])"
      ]
     },
     "execution_count": 190,
     "metadata": {},
     "output_type": "execute_result"
    }
   ],
   "source": [
    "der_W"
   ]
  },
  {
   "cell_type": "code",
   "execution_count": 191,
   "metadata": {},
   "outputs": [
    {
     "ename": "SyntaxError",
     "evalue": "invalid syntax (<ipython-input-191-11d66c64c8b0>, line 1)",
     "output_type": "error",
     "traceback": [
      "\u001b[0;36m  File \u001b[0;32m\"<ipython-input-191-11d66c64c8b0>\"\u001b[0;36m, line \u001b[0;32m1\u001b[0m\n\u001b[0;31m    der_W[][:]\u001b[0m\n\u001b[0m          ^\u001b[0m\n\u001b[0;31mSyntaxError\u001b[0m\u001b[0;31m:\u001b[0m invalid syntax\n"
     ]
    }
   ],
   "source": [
    "der_W[][:]"
   ]
  },
  {
   "cell_type": "code",
   "execution_count": 102,
   "metadata": {},
   "outputs": [
    {
     "data": {
      "text/plain": [
       "array([[  0.,   0.,   0.,   0.,   0.],\n",
       "       [255., 255., 255., 255., 255.],\n",
       "       [ 24.,  24.,  24.,  24.,  24.]])"
      ]
     },
     "execution_count": 102,
     "metadata": {},
     "output_type": "execute_result"
    }
   ],
   "source": [
    "x[]"
   ]
  },
  {
   "cell_type": "code",
   "execution_count": null,
   "metadata": {},
   "outputs": [],
   "source": []
  }
 ],
 "metadata": {
  "kernelspec": {
   "display_name": "Kaggle",
   "language": "python",
   "name": "kaggle"
  },
  "language_info": {
   "codemirror_mode": {
    "name": "ipython",
    "version": 3
   },
   "file_extension": ".py",
   "mimetype": "text/x-python",
   "name": "python",
   "nbconvert_exporter": "python",
   "pygments_lexer": "ipython3",
   "version": "3.5.2"
  }
 },
 "nbformat": 4,
 "nbformat_minor": 2
}
